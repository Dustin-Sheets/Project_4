{
 "cells": [
  {
   "cell_type": "code",
   "execution_count": 139,
   "id": "3a134ad6",
   "metadata": {},
   "outputs": [
    {
     "data": {
      "text/html": [
       "<div>\n",
       "<style scoped>\n",
       "    .dataframe tbody tr th:only-of-type {\n",
       "        vertical-align: middle;\n",
       "    }\n",
       "\n",
       "    .dataframe tbody tr th {\n",
       "        vertical-align: top;\n",
       "    }\n",
       "\n",
       "    .dataframe thead th {\n",
       "        text-align: right;\n",
       "    }\n",
       "</style>\n",
       "<table border=\"1\" class=\"dataframe\">\n",
       "  <thead>\n",
       "    <tr style=\"text-align: right;\">\n",
       "      <th></th>\n",
       "      <th>HeartDiseaseorAttack</th>\n",
       "      <th>HighBP</th>\n",
       "      <th>HighChol</th>\n",
       "      <th>CholCheck</th>\n",
       "      <th>BMI</th>\n",
       "      <th>Smoker</th>\n",
       "      <th>Stroke</th>\n",
       "      <th>Diabetes</th>\n",
       "      <th>PhysActivity</th>\n",
       "      <th>Fruits</th>\n",
       "      <th>...</th>\n",
       "      <th>AnyHealthcare</th>\n",
       "      <th>NoDocbcCost</th>\n",
       "      <th>GenHlth</th>\n",
       "      <th>MentHlth</th>\n",
       "      <th>PhysHlth</th>\n",
       "      <th>DiffWalk</th>\n",
       "      <th>Sex</th>\n",
       "      <th>Age</th>\n",
       "      <th>Education</th>\n",
       "      <th>Income</th>\n",
       "    </tr>\n",
       "  </thead>\n",
       "  <tbody>\n",
       "    <tr>\n",
       "      <th>0</th>\n",
       "      <td>0.0</td>\n",
       "      <td>1.0</td>\n",
       "      <td>1.0</td>\n",
       "      <td>1.0</td>\n",
       "      <td>40.0</td>\n",
       "      <td>1.0</td>\n",
       "      <td>0.0</td>\n",
       "      <td>0.0</td>\n",
       "      <td>0.0</td>\n",
       "      <td>0.0</td>\n",
       "      <td>...</td>\n",
       "      <td>1.0</td>\n",
       "      <td>0.0</td>\n",
       "      <td>5.0</td>\n",
       "      <td>18.0</td>\n",
       "      <td>15.0</td>\n",
       "      <td>1.0</td>\n",
       "      <td>0.0</td>\n",
       "      <td>9.0</td>\n",
       "      <td>4.0</td>\n",
       "      <td>3.0</td>\n",
       "    </tr>\n",
       "    <tr>\n",
       "      <th>1</th>\n",
       "      <td>0.0</td>\n",
       "      <td>0.0</td>\n",
       "      <td>0.0</td>\n",
       "      <td>0.0</td>\n",
       "      <td>25.0</td>\n",
       "      <td>1.0</td>\n",
       "      <td>0.0</td>\n",
       "      <td>0.0</td>\n",
       "      <td>1.0</td>\n",
       "      <td>0.0</td>\n",
       "      <td>...</td>\n",
       "      <td>0.0</td>\n",
       "      <td>1.0</td>\n",
       "      <td>3.0</td>\n",
       "      <td>0.0</td>\n",
       "      <td>0.0</td>\n",
       "      <td>0.0</td>\n",
       "      <td>0.0</td>\n",
       "      <td>7.0</td>\n",
       "      <td>6.0</td>\n",
       "      <td>1.0</td>\n",
       "    </tr>\n",
       "    <tr>\n",
       "      <th>2</th>\n",
       "      <td>0.0</td>\n",
       "      <td>1.0</td>\n",
       "      <td>1.0</td>\n",
       "      <td>1.0</td>\n",
       "      <td>28.0</td>\n",
       "      <td>0.0</td>\n",
       "      <td>0.0</td>\n",
       "      <td>0.0</td>\n",
       "      <td>0.0</td>\n",
       "      <td>1.0</td>\n",
       "      <td>...</td>\n",
       "      <td>1.0</td>\n",
       "      <td>1.0</td>\n",
       "      <td>5.0</td>\n",
       "      <td>30.0</td>\n",
       "      <td>30.0</td>\n",
       "      <td>1.0</td>\n",
       "      <td>0.0</td>\n",
       "      <td>9.0</td>\n",
       "      <td>4.0</td>\n",
       "      <td>8.0</td>\n",
       "    </tr>\n",
       "    <tr>\n",
       "      <th>3</th>\n",
       "      <td>0.0</td>\n",
       "      <td>1.0</td>\n",
       "      <td>0.0</td>\n",
       "      <td>1.0</td>\n",
       "      <td>27.0</td>\n",
       "      <td>0.0</td>\n",
       "      <td>0.0</td>\n",
       "      <td>0.0</td>\n",
       "      <td>1.0</td>\n",
       "      <td>1.0</td>\n",
       "      <td>...</td>\n",
       "      <td>1.0</td>\n",
       "      <td>0.0</td>\n",
       "      <td>2.0</td>\n",
       "      <td>0.0</td>\n",
       "      <td>0.0</td>\n",
       "      <td>0.0</td>\n",
       "      <td>0.0</td>\n",
       "      <td>11.0</td>\n",
       "      <td>3.0</td>\n",
       "      <td>6.0</td>\n",
       "    </tr>\n",
       "    <tr>\n",
       "      <th>4</th>\n",
       "      <td>0.0</td>\n",
       "      <td>1.0</td>\n",
       "      <td>1.0</td>\n",
       "      <td>1.0</td>\n",
       "      <td>24.0</td>\n",
       "      <td>0.0</td>\n",
       "      <td>0.0</td>\n",
       "      <td>0.0</td>\n",
       "      <td>1.0</td>\n",
       "      <td>1.0</td>\n",
       "      <td>...</td>\n",
       "      <td>1.0</td>\n",
       "      <td>0.0</td>\n",
       "      <td>2.0</td>\n",
       "      <td>3.0</td>\n",
       "      <td>0.0</td>\n",
       "      <td>0.0</td>\n",
       "      <td>0.0</td>\n",
       "      <td>11.0</td>\n",
       "      <td>5.0</td>\n",
       "      <td>4.0</td>\n",
       "    </tr>\n",
       "  </tbody>\n",
       "</table>\n",
       "<p>5 rows × 22 columns</p>\n",
       "</div>"
      ],
      "text/plain": [
       "   HeartDiseaseorAttack  HighBP  HighChol  CholCheck   BMI  Smoker  Stroke  \\\n",
       "0                   0.0     1.0       1.0        1.0  40.0     1.0     0.0   \n",
       "1                   0.0     0.0       0.0        0.0  25.0     1.0     0.0   \n",
       "2                   0.0     1.0       1.0        1.0  28.0     0.0     0.0   \n",
       "3                   0.0     1.0       0.0        1.0  27.0     0.0     0.0   \n",
       "4                   0.0     1.0       1.0        1.0  24.0     0.0     0.0   \n",
       "\n",
       "   Diabetes  PhysActivity  Fruits  ...  AnyHealthcare  NoDocbcCost  GenHlth  \\\n",
       "0       0.0           0.0     0.0  ...            1.0          0.0      5.0   \n",
       "1       0.0           1.0     0.0  ...            0.0          1.0      3.0   \n",
       "2       0.0           0.0     1.0  ...            1.0          1.0      5.0   \n",
       "3       0.0           1.0     1.0  ...            1.0          0.0      2.0   \n",
       "4       0.0           1.0     1.0  ...            1.0          0.0      2.0   \n",
       "\n",
       "   MentHlth  PhysHlth  DiffWalk  Sex   Age  Education  Income  \n",
       "0      18.0      15.0       1.0  0.0   9.0        4.0     3.0  \n",
       "1       0.0       0.0       0.0  0.0   7.0        6.0     1.0  \n",
       "2      30.0      30.0       1.0  0.0   9.0        4.0     8.0  \n",
       "3       0.0       0.0       0.0  0.0  11.0        3.0     6.0  \n",
       "4       3.0       0.0       0.0  0.0  11.0        5.0     4.0  \n",
       "\n",
       "[5 rows x 22 columns]"
      ]
     },
     "execution_count": 139,
     "metadata": {},
     "output_type": "execute_result"
    }
   ],
   "source": [
    "from sklearn.model_selection import train_test_split\n",
    "from sklearn.preprocessing import StandardScaler\n",
    "import pandas as pd\n",
    "import tensorflow as tf\n",
    "from keras.layers import Activation, Dense\n",
    "import pandas as pd \n",
    "from tensorflow import keras\n",
    "\n",
    "df = pd.read_csv(\"heart_disease_health_indicators_BRFSS2015.csv\")\n",
    "df.head()"
   ]
  },
  {
   "cell_type": "code",
   "execution_count": 140,
   "id": "7bdf3fe8",
   "metadata": {},
   "outputs": [
    {
     "data": {
      "text/plain": [
       "Index(['HeartDiseaseorAttack', 'HighBP', 'HighChol', 'CholCheck', 'BMI',\n",
       "       'Smoker', 'Stroke', 'Diabetes', 'PhysActivity', 'Fruits', 'Veggies',\n",
       "       'HvyAlcoholConsump', 'AnyHealthcare', 'NoDocbcCost', 'DiffWalk', 'Sex'],\n",
       "      dtype='object')"
      ]
     },
     "execution_count": 140,
     "metadata": {},
     "output_type": "execute_result"
    }
   ],
   "source": [
    "df = df.drop(columns = ['GenHlth', 'MentHlth','PhysHlth','Income','Education','Age'])\n",
    "df.columns"
   ]
  },
  {
   "cell_type": "code",
   "execution_count": 141,
   "id": "7c393fa6",
   "metadata": {},
   "outputs": [],
   "source": [
    "dummies = pd.get_dummies(df)"
   ]
  },
  {
   "cell_type": "code",
   "execution_count": 142,
   "id": "f11b482c",
   "metadata": {},
   "outputs": [],
   "source": [
    "y = dummies['HeartDiseaseorAttack'].values\n",
    "X = dummies.drop(columns='HeartDiseaseorAttack').values"
   ]
  },
  {
   "cell_type": "code",
   "execution_count": 143,
   "id": "cde42c93",
   "metadata": {},
   "outputs": [],
   "source": [
    "X_train, X_test, y_train, y_test = train_test_split(X, y)"
   ]
  },
  {
   "cell_type": "code",
   "execution_count": 164,
   "id": "eb622902",
   "metadata": {},
   "outputs": [
    {
     "data": {
      "text/plain": [
       "array([ 1.15497318,  1.16628632,  0.19682794,  0.54662825, -0.89288603,\n",
       "        4.85803103,  2.44375473,  0.56682158,  0.759569  , -2.07939751,\n",
       "       -0.24408668,  0.22726258, -0.30248534,  2.2256741 ,  1.12820509])"
      ]
     },
     "execution_count": 164,
     "metadata": {},
     "output_type": "execute_result"
    }
   ],
   "source": [
    "scaler = StandardScaler()\n",
    "\n",
    "X_scaler = scaler.fit(X_train)\n",
    "\n",
    "X_train_scaled = X_scaler.transform(X_train)\n",
    "X_test_scaled = X_scaler.transform(X_test)"
   ]
  },
  {
   "cell_type": "code",
   "execution_count": 145,
   "id": "df174934",
   "metadata": {},
   "outputs": [
    {
     "name": "stdout",
     "output_type": "stream",
     "text": [
      "Model: \"sequential_3\"\n",
      "_________________________________________________________________\n",
      " Layer (type)                Output Shape              Param #   \n",
      "=================================================================\n",
      " dense_9 (Dense)             (None, 64)                1024      \n",
      "                                                                 \n",
      " dense_10 (Dense)            (None, 32)                2080      \n",
      "                                                                 \n",
      " dense_11 (Dense)            (None, 1)                 33        \n",
      "                                                                 \n",
      "=================================================================\n",
      "Total params: 3137 (12.25 KB)\n",
      "Trainable params: 3137 (12.25 KB)\n",
      "Non-trainable params: 0 (0.00 Byte)\n",
      "_________________________________________________________________\n"
     ]
    }
   ],
   "source": [
    "nn = tf.keras.models.Sequential()\n",
    "\n",
    "# First hidden layer\n",
    "nn.add(Dense(units=64, activation = \"tanh\", input_dim= len(X_train[0])))\n",
    "\n",
    "# Second hidden layer\n",
    "nn.add(Dense(units=32, activation = \"relu\"))\n",
    "\n",
    "# Output layer\n",
    "nn.add(tf.keras.layers.Dense(units=1, activation=\"sigmoid\"))\n",
    "\n",
    "nn.summary()"
   ]
  },
  {
   "cell_type": "code",
   "execution_count": 146,
   "id": "4c2bcce1",
   "metadata": {},
   "outputs": [],
   "source": [
    "nn.compile(loss=\"binary_crossentropy\", optimizer= \"adam\", metrics= [\"accuracy\"])"
   ]
  },
  {
   "cell_type": "code",
   "execution_count": 147,
   "id": "1ea77a27",
   "metadata": {
    "scrolled": true
   },
   "outputs": [
    {
     "name": "stdout",
     "output_type": "stream",
     "text": [
      "Epoch 1/100\n",
      "5946/5946 [==============================] - 5s 782us/step - loss: 0.2618 - accuracy: 0.9053\n",
      "Epoch 2/100\n",
      "5946/5946 [==============================] - 5s 784us/step - loss: 0.2571 - accuracy: 0.9067\n",
      "Epoch 3/100\n",
      "5946/5946 [==============================] - 5s 788us/step - loss: 0.2567 - accuracy: 0.9067\n",
      "Epoch 4/100\n",
      "5946/5946 [==============================] - 5s 796us/step - loss: 0.2563 - accuracy: 0.9066\n",
      "Epoch 5/100\n",
      "5946/5946 [==============================] - 5s 791us/step - loss: 0.2561 - accuracy: 0.9065\n",
      "Epoch 6/100\n",
      "5946/5946 [==============================] - 5s 794us/step - loss: 0.2560 - accuracy: 0.9068\n",
      "Epoch 7/100\n",
      "5946/5946 [==============================] - 5s 807us/step - loss: 0.2558 - accuracy: 0.9069\n",
      "Epoch 8/100\n",
      "5946/5946 [==============================] - 5s 821us/step - loss: 0.2556 - accuracy: 0.9068\n",
      "Epoch 9/100\n",
      "5946/5946 [==============================] - 5s 798us/step - loss: 0.2555 - accuracy: 0.9068\n",
      "Epoch 10/100\n",
      "5946/5946 [==============================] - 5s 799us/step - loss: 0.2553 - accuracy: 0.9070\n",
      "Epoch 11/100\n",
      "5946/5946 [==============================] - 5s 788us/step - loss: 0.2552 - accuracy: 0.9070\n",
      "Epoch 12/100\n",
      "5946/5946 [==============================] - 5s 789us/step - loss: 0.2551 - accuracy: 0.9068\n",
      "Epoch 13/100\n",
      "5946/5946 [==============================] - 5s 798us/step - loss: 0.2550 - accuracy: 0.9069\n",
      "Epoch 14/100\n",
      "5946/5946 [==============================] - 5s 797us/step - loss: 0.2548 - accuracy: 0.9070\n",
      "Epoch 15/100\n",
      "5946/5946 [==============================] - 5s 795us/step - loss: 0.2548 - accuracy: 0.9070\n",
      "Epoch 16/100\n",
      "5946/5946 [==============================] - 5s 789us/step - loss: 0.2546 - accuracy: 0.9070\n",
      "Epoch 17/100\n",
      "5946/5946 [==============================] - 5s 793us/step - loss: 0.2545 - accuracy: 0.9070\n",
      "Epoch 18/100\n",
      "5946/5946 [==============================] - 5s 789us/step - loss: 0.2544 - accuracy: 0.9069\n",
      "Epoch 19/100\n",
      "5946/5946 [==============================] - 5s 789us/step - loss: 0.2544 - accuracy: 0.9071\n",
      "Epoch 20/100\n",
      "5946/5946 [==============================] - 5s 788us/step - loss: 0.2542 - accuracy: 0.9071\n",
      "Epoch 21/100\n",
      "5946/5946 [==============================] - 5s 787us/step - loss: 0.2540 - accuracy: 0.9071\n",
      "Epoch 22/100\n",
      "5946/5946 [==============================] - 5s 786us/step - loss: 0.2539 - accuracy: 0.9069\n",
      "Epoch 23/100\n",
      "5946/5946 [==============================] - 5s 788us/step - loss: 0.2539 - accuracy: 0.9070\n",
      "Epoch 24/100\n",
      "5946/5946 [==============================] - 5s 790us/step - loss: 0.2537 - accuracy: 0.9072\n",
      "Epoch 25/100\n",
      "5946/5946 [==============================] - 5s 785us/step - loss: 0.2537 - accuracy: 0.9070\n",
      "Epoch 26/100\n",
      "5946/5946 [==============================] - 5s 787us/step - loss: 0.2534 - accuracy: 0.9075\n",
      "Epoch 27/100\n",
      "5946/5946 [==============================] - 5s 787us/step - loss: 0.2533 - accuracy: 0.9071\n",
      "Epoch 28/100\n",
      "5946/5946 [==============================] - 5s 787us/step - loss: 0.2533 - accuracy: 0.9071\n",
      "Epoch 29/100\n",
      "5946/5946 [==============================] - 5s 784us/step - loss: 0.2531 - accuracy: 0.9072\n",
      "Epoch 30/100\n",
      "5946/5946 [==============================] - 5s 789us/step - loss: 0.2529 - accuracy: 0.9071\n",
      "Epoch 31/100\n",
      "5946/5946 [==============================] - 5s 790us/step - loss: 0.2528 - accuracy: 0.9074\n",
      "Epoch 32/100\n",
      "5946/5946 [==============================] - 5s 790us/step - loss: 0.2527 - accuracy: 0.9073\n",
      "Epoch 33/100\n",
      "5946/5946 [==============================] - 5s 834us/step - loss: 0.2525 - accuracy: 0.9074\n",
      "Epoch 34/100\n",
      "5946/5946 [==============================] - 5s 792us/step - loss: 0.2525 - accuracy: 0.9074\n",
      "Epoch 35/100\n",
      "5946/5946 [==============================] - 5s 791us/step - loss: 0.2523 - accuracy: 0.9075\n",
      "Epoch 36/100\n",
      "5946/5946 [==============================] - 5s 794us/step - loss: 0.2522 - accuracy: 0.9072\n",
      "Epoch 37/100\n",
      "5946/5946 [==============================] - 5s 794us/step - loss: 0.2521 - accuracy: 0.9075\n",
      "Epoch 38/100\n",
      "5946/5946 [==============================] - 5s 799us/step - loss: 0.2520 - accuracy: 0.9076\n",
      "Epoch 39/100\n",
      "5946/5946 [==============================] - 5s 794us/step - loss: 0.2519 - accuracy: 0.9075\n",
      "Epoch 40/100\n",
      "5946/5946 [==============================] - 5s 797us/step - loss: 0.2518 - accuracy: 0.9076\n",
      "Epoch 41/100\n",
      "5946/5946 [==============================] - 5s 797us/step - loss: 0.2516 - accuracy: 0.9076\n",
      "Epoch 42/100\n",
      "5946/5946 [==============================] - 5s 798us/step - loss: 0.2516 - accuracy: 0.9077\n",
      "Epoch 43/100\n",
      "5946/5946 [==============================] - 5s 788us/step - loss: 0.2516 - accuracy: 0.9076\n",
      "Epoch 44/100\n",
      "5946/5946 [==============================] - 5s 794us/step - loss: 0.2513 - accuracy: 0.9077\n",
      "Epoch 45/100\n",
      "5946/5946 [==============================] - 5s 797us/step - loss: 0.2513 - accuracy: 0.9075\n",
      "Epoch 46/100\n",
      "5946/5946 [==============================] - 5s 795us/step - loss: 0.2512 - accuracy: 0.9077\n",
      "Epoch 47/100\n",
      "5946/5946 [==============================] - 5s 799us/step - loss: 0.2510 - accuracy: 0.9078\n",
      "Epoch 48/100\n",
      "5946/5946 [==============================] - 5s 794us/step - loss: 0.2509 - accuracy: 0.9078\n",
      "Epoch 49/100\n",
      "5946/5946 [==============================] - 5s 796us/step - loss: 0.2508 - accuracy: 0.9078\n",
      "Epoch 50/100\n",
      "5946/5946 [==============================] - 5s 795us/step - loss: 0.2507 - accuracy: 0.9077\n",
      "Epoch 51/100\n",
      "5946/5946 [==============================] - 5s 793us/step - loss: 0.2506 - accuracy: 0.9079\n",
      "Epoch 52/100\n",
      "5946/5946 [==============================] - 5s 793us/step - loss: 0.2503 - accuracy: 0.9081\n",
      "Epoch 53/100\n",
      "5946/5946 [==============================] - 5s 793us/step - loss: 0.2504 - accuracy: 0.9079\n",
      "Epoch 54/100\n",
      "5946/5946 [==============================] - 5s 795us/step - loss: 0.2502 - accuracy: 0.9080\n",
      "Epoch 55/100\n",
      "5946/5946 [==============================] - 5s 792us/step - loss: 0.2501 - accuracy: 0.9081\n",
      "Epoch 56/100\n",
      "5946/5946 [==============================] - 5s 796us/step - loss: 0.2500 - accuracy: 0.9078\n",
      "Epoch 57/100\n",
      "5946/5946 [==============================] - 5s 789us/step - loss: 0.2500 - accuracy: 0.9082\n",
      "Epoch 58/100\n",
      "5946/5946 [==============================] - 5s 815us/step - loss: 0.2497 - accuracy: 0.9083\n",
      "Epoch 59/100\n",
      "5946/5946 [==============================] - 5s 816us/step - loss: 0.2497 - accuracy: 0.9078\n",
      "Epoch 60/100\n",
      "5946/5946 [==============================] - 5s 798us/step - loss: 0.2497 - accuracy: 0.9082\n",
      "Epoch 61/100\n",
      "5946/5946 [==============================] - 5s 801us/step - loss: 0.2495 - accuracy: 0.9083\n",
      "Epoch 62/100\n",
      "5946/5946 [==============================] - 5s 794us/step - loss: 0.2495 - accuracy: 0.9082\n",
      "Epoch 63/100\n",
      "5946/5946 [==============================] - 5s 786us/step - loss: 0.2494 - accuracy: 0.9082\n",
      "Epoch 64/100\n",
      "5946/5946 [==============================] - 5s 793us/step - loss: 0.2492 - accuracy: 0.9083\n",
      "Epoch 65/100\n",
      "5946/5946 [==============================] - 5s 812us/step - loss: 0.2491 - accuracy: 0.9081\n",
      "Epoch 66/100\n",
      "5946/5946 [==============================] - 5s 795us/step - loss: 0.2490 - accuracy: 0.9083\n",
      "Epoch 67/100\n",
      "5946/5946 [==============================] - 5s 803us/step - loss: 0.2490 - accuracy: 0.9082\n",
      "Epoch 68/100\n",
      "5946/5946 [==============================] - 5s 800us/step - loss: 0.2489 - accuracy: 0.9083\n",
      "Epoch 69/100\n",
      "5946/5946 [==============================] - 5s 782us/step - loss: 0.2488 - accuracy: 0.9084\n",
      "Epoch 70/100\n",
      "5946/5946 [==============================] - 5s 796us/step - loss: 0.2489 - accuracy: 0.9082\n",
      "Epoch 71/100\n",
      "5946/5946 [==============================] - 5s 799us/step - loss: 0.2487 - accuracy: 0.9085\n",
      "Epoch 72/100\n",
      "5946/5946 [==============================] - 5s 790us/step - loss: 0.2484 - accuracy: 0.9086\n",
      "Epoch 73/100\n",
      "5946/5946 [==============================] - 5s 790us/step - loss: 0.2485 - accuracy: 0.9084\n",
      "Epoch 74/100\n",
      "5946/5946 [==============================] - 5s 795us/step - loss: 0.2483 - accuracy: 0.9084\n",
      "Epoch 75/100\n",
      "5946/5946 [==============================] - 5s 793us/step - loss: 0.2482 - accuracy: 0.9085\n",
      "Epoch 76/100\n",
      "5946/5946 [==============================] - 5s 803us/step - loss: 0.2482 - accuracy: 0.9085\n",
      "Epoch 77/100\n",
      "5946/5946 [==============================] - 5s 790us/step - loss: 0.2481 - accuracy: 0.9086\n",
      "Epoch 78/100\n",
      "5946/5946 [==============================] - 5s 786us/step - loss: 0.2480 - accuracy: 0.9088\n",
      "Epoch 79/100\n",
      "5946/5946 [==============================] - 5s 786us/step - loss: 0.2480 - accuracy: 0.9085\n",
      "Epoch 80/100\n",
      "5946/5946 [==============================] - 5s 791us/step - loss: 0.2478 - accuracy: 0.9088\n",
      "Epoch 81/100\n",
      "5946/5946 [==============================] - 5s 788us/step - loss: 0.2478 - accuracy: 0.9086\n",
      "Epoch 82/100\n",
      "5946/5946 [==============================] - 5s 787us/step - loss: 0.2477 - accuracy: 0.9088\n",
      "Epoch 83/100\n",
      "5946/5946 [==============================] - 5s 782us/step - loss: 0.2476 - accuracy: 0.9087\n",
      "Epoch 84/100\n",
      "5946/5946 [==============================] - 5s 826us/step - loss: 0.2475 - accuracy: 0.9087\n",
      "Epoch 85/100\n",
      "5946/5946 [==============================] - 5s 786us/step - loss: 0.2475 - accuracy: 0.9087\n",
      "Epoch 86/100\n",
      "5946/5946 [==============================] - 5s 786us/step - loss: 0.2475 - accuracy: 0.9088\n",
      "Epoch 87/100\n",
      "5946/5946 [==============================] - 5s 790us/step - loss: 0.2473 - accuracy: 0.9089\n",
      "Epoch 88/100\n",
      "5946/5946 [==============================] - 5s 791us/step - loss: 0.2473 - accuracy: 0.9088\n",
      "Epoch 89/100\n",
      "5946/5946 [==============================] - 5s 789us/step - loss: 0.2472 - accuracy: 0.9087\n",
      "Epoch 90/100\n",
      "5946/5946 [==============================] - 5s 800us/step - loss: 0.2472 - accuracy: 0.9086\n",
      "Epoch 91/100\n",
      "5946/5946 [==============================] - 5s 807us/step - loss: 0.2471 - accuracy: 0.9088\n",
      "Epoch 92/100\n",
      "5946/5946 [==============================] - 5s 798us/step - loss: 0.2469 - accuracy: 0.9087\n",
      "Epoch 93/100\n",
      "5946/5946 [==============================] - 5s 808us/step - loss: 0.2471 - accuracy: 0.9090\n",
      "Epoch 94/100\n",
      "5946/5946 [==============================] - 5s 797us/step - loss: 0.2469 - accuracy: 0.9088\n",
      "Epoch 95/100\n",
      "5946/5946 [==============================] - 5s 798us/step - loss: 0.2468 - accuracy: 0.9086\n",
      "Epoch 96/100\n",
      "5946/5946 [==============================] - 5s 797us/step - loss: 0.2469 - accuracy: 0.9089\n",
      "Epoch 97/100\n",
      "5946/5946 [==============================] - 5s 795us/step - loss: 0.2467 - accuracy: 0.9091\n",
      "Epoch 98/100\n",
      "5946/5946 [==============================] - 5s 798us/step - loss: 0.2467 - accuracy: 0.9087\n",
      "Epoch 99/100\n",
      "5946/5946 [==============================] - 5s 796us/step - loss: 0.2468 - accuracy: 0.9090\n",
      "Epoch 100/100\n",
      "5946/5946 [==============================] - 5s 807us/step - loss: 0.2466 - accuracy: 0.9090\n"
     ]
    }
   ],
   "source": [
    "nn_fitted = nn.fit(X_train_scaled,y_train, epochs=100)"
   ]
  },
  {
   "cell_type": "code",
   "execution_count": 148,
   "id": "0dcc7bf7",
   "metadata": {},
   "outputs": [
    {
     "name": "stdout",
     "output_type": "stream",
     "text": [
      "1982/1982 - 1s - loss: 0.2675 - accuracy: 0.9061 - 1s/epoch - 638us/step\n",
      "Loss: 0.2674786150455475, Accuracy: 0.9061495065689087\n"
     ]
    }
   ],
   "source": [
    "model_loss, model_accuracy = nn.evaluate(X_test_scaled,y_test,verbose=2)\n",
    "print(f\"Loss: {model_loss}, Accuracy: {model_accuracy}\")"
   ]
  },
  {
   "cell_type": "code",
   "execution_count": 149,
   "id": "a1fa0bcb",
   "metadata": {},
   "outputs": [
    {
     "name": "stderr",
     "output_type": "stream",
     "text": [
      "C:\\Users\\nitsu\\anaconda3\\envs\\ml\\Lib\\site-packages\\keras\\src\\engine\\training.py:3079: UserWarning: You are saving your model as an HDF5 file via `model.save()`. This file format is considered legacy. We recommend using instead the native Keras format, e.g. `model.save('my_model.keras')`.\n",
      "  saving_api.save_model(\n"
     ]
    }
   ],
   "source": [
    "nn.save(\"Heart_Disease_Pred.h5\")"
   ]
  },
  {
   "cell_type": "code",
   "execution_count": 150,
   "id": "e9da7d1b",
   "metadata": {},
   "outputs": [],
   "source": [
    "reloded_Heart_Disease_Pred = keras.models.load_model(\"Heart_Disease_Pred.h5\")"
   ]
  },
  {
   "cell_type": "code",
   "execution_count": 218,
   "id": "87cbcf29",
   "metadata": {},
   "outputs": [],
   "source": [
    "new_data = [[1, 0, 1, 30,\n",
    "       0, 0, 0, 1, 1, 1,\n",
    "       0, 1, 0, 0, 0]]"
   ]
  },
  {
   "cell_type": "code",
   "execution_count": 219,
   "id": "97f8aea0",
   "metadata": {},
   "outputs": [
    {
     "name": "stderr",
     "output_type": "stream",
     "text": [
      "C:\\Users\\nitsu\\anaconda3\\envs\\ml\\Lib\\site-packages\\sklearn\\base.py:458: UserWarning: X has feature names, but StandardScaler was fitted without feature names\n",
      "  warnings.warn(\n"
     ]
    }
   ],
   "source": [
    "new_data_df = pd.DataFrame(new_data, columns=['HighBP', 'HighChol', 'CholCheck', 'BMI',\n",
    "       'Smoker', 'Stroke', 'Diabetes', 'PhysActivity', 'Fruits', 'Veggies',\n",
    "       'HvyAlcoholConsump', 'AnyHealthcare', 'NoDocbcCost', 'DiffWalk', 'Sex'])\n",
    "new_data_scaled = scaler.fit(X_train).transform(new_data_df)"
   ]
  },
  {
   "cell_type": "code",
   "execution_count": 220,
   "id": "a878de7d",
   "metadata": {},
   "outputs": [
    {
     "name": "stdout",
     "output_type": "stream",
     "text": [
      "1/1 [==============================] - 0s 12ms/step\n"
     ]
    }
   ],
   "source": [
    "prediction = reloded_Heart_Disease_Pred.predict(new_data_scaled)"
   ]
  },
  {
   "cell_type": "code",
   "execution_count": 221,
   "id": "cc3146b2",
   "metadata": {
    "scrolled": true
   },
   "outputs": [
    {
     "name": "stdout",
     "output_type": "stream",
     "text": [
      "prediction: [[0.03309385]]\n"
     ]
    }
   ],
   "source": [
    "print(f\"prediction: {prediction}\")"
   ]
  },
  {
   "cell_type": "code",
   "execution_count": null,
   "id": "1ae4a513",
   "metadata": {},
   "outputs": [],
   "source": []
  },
  {
   "cell_type": "code",
   "execution_count": null,
   "id": "e6264414",
   "metadata": {},
   "outputs": [],
   "source": []
  }
 ],
 "metadata": {
  "kernelspec": {
   "display_name": "Python 3 (ipykernel)",
   "language": "python",
   "name": "python3"
  },
  "language_info": {
   "codemirror_mode": {
    "name": "ipython",
    "version": 3
   },
   "file_extension": ".py",
   "mimetype": "text/x-python",
   "name": "python",
   "nbconvert_exporter": "python",
   "pygments_lexer": "ipython3",
   "version": "3.10.9"
  }
 },
 "nbformat": 4,
 "nbformat_minor": 5
}
