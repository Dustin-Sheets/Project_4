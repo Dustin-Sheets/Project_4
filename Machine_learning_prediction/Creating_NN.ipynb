{
 "cells": [
  {
   "cell_type": "code",
   "execution_count": 64,
   "id": "3a134ad6",
   "metadata": {},
   "outputs": [
    {
     "data": {
      "text/html": [
       "<div>\n",
       "<style scoped>\n",
       "    .dataframe tbody tr th:only-of-type {\n",
       "        vertical-align: middle;\n",
       "    }\n",
       "\n",
       "    .dataframe tbody tr th {\n",
       "        vertical-align: top;\n",
       "    }\n",
       "\n",
       "    .dataframe thead th {\n",
       "        text-align: right;\n",
       "    }\n",
       "</style>\n",
       "<table border=\"1\" class=\"dataframe\">\n",
       "  <thead>\n",
       "    <tr style=\"text-align: right;\">\n",
       "      <th></th>\n",
       "      <th>HeartDiseaseorAttack</th>\n",
       "      <th>HighBP</th>\n",
       "      <th>HighChol</th>\n",
       "      <th>CholCheck</th>\n",
       "      <th>BMI</th>\n",
       "      <th>Smoker</th>\n",
       "      <th>Stroke</th>\n",
       "      <th>Diabetes</th>\n",
       "      <th>PhysActivity</th>\n",
       "      <th>Fruits</th>\n",
       "      <th>...</th>\n",
       "      <th>AnyHealthcare</th>\n",
       "      <th>NoDocbcCost</th>\n",
       "      <th>GenHlth</th>\n",
       "      <th>MentHlth</th>\n",
       "      <th>PhysHlth</th>\n",
       "      <th>DiffWalk</th>\n",
       "      <th>Sex</th>\n",
       "      <th>Age</th>\n",
       "      <th>Education</th>\n",
       "      <th>Income</th>\n",
       "    </tr>\n",
       "  </thead>\n",
       "  <tbody>\n",
       "    <tr>\n",
       "      <th>0</th>\n",
       "      <td>0.0</td>\n",
       "      <td>1.0</td>\n",
       "      <td>1.0</td>\n",
       "      <td>1.0</td>\n",
       "      <td>40.0</td>\n",
       "      <td>1.0</td>\n",
       "      <td>0.0</td>\n",
       "      <td>0.0</td>\n",
       "      <td>0.0</td>\n",
       "      <td>0.0</td>\n",
       "      <td>...</td>\n",
       "      <td>1.0</td>\n",
       "      <td>0.0</td>\n",
       "      <td>5.0</td>\n",
       "      <td>18.0</td>\n",
       "      <td>15.0</td>\n",
       "      <td>1.0</td>\n",
       "      <td>0.0</td>\n",
       "      <td>9.0</td>\n",
       "      <td>4.0</td>\n",
       "      <td>3.0</td>\n",
       "    </tr>\n",
       "    <tr>\n",
       "      <th>1</th>\n",
       "      <td>0.0</td>\n",
       "      <td>0.0</td>\n",
       "      <td>0.0</td>\n",
       "      <td>0.0</td>\n",
       "      <td>25.0</td>\n",
       "      <td>1.0</td>\n",
       "      <td>0.0</td>\n",
       "      <td>0.0</td>\n",
       "      <td>1.0</td>\n",
       "      <td>0.0</td>\n",
       "      <td>...</td>\n",
       "      <td>0.0</td>\n",
       "      <td>1.0</td>\n",
       "      <td>3.0</td>\n",
       "      <td>0.0</td>\n",
       "      <td>0.0</td>\n",
       "      <td>0.0</td>\n",
       "      <td>0.0</td>\n",
       "      <td>7.0</td>\n",
       "      <td>6.0</td>\n",
       "      <td>1.0</td>\n",
       "    </tr>\n",
       "    <tr>\n",
       "      <th>2</th>\n",
       "      <td>0.0</td>\n",
       "      <td>1.0</td>\n",
       "      <td>1.0</td>\n",
       "      <td>1.0</td>\n",
       "      <td>28.0</td>\n",
       "      <td>0.0</td>\n",
       "      <td>0.0</td>\n",
       "      <td>0.0</td>\n",
       "      <td>0.0</td>\n",
       "      <td>1.0</td>\n",
       "      <td>...</td>\n",
       "      <td>1.0</td>\n",
       "      <td>1.0</td>\n",
       "      <td>5.0</td>\n",
       "      <td>30.0</td>\n",
       "      <td>30.0</td>\n",
       "      <td>1.0</td>\n",
       "      <td>0.0</td>\n",
       "      <td>9.0</td>\n",
       "      <td>4.0</td>\n",
       "      <td>8.0</td>\n",
       "    </tr>\n",
       "    <tr>\n",
       "      <th>3</th>\n",
       "      <td>0.0</td>\n",
       "      <td>1.0</td>\n",
       "      <td>0.0</td>\n",
       "      <td>1.0</td>\n",
       "      <td>27.0</td>\n",
       "      <td>0.0</td>\n",
       "      <td>0.0</td>\n",
       "      <td>0.0</td>\n",
       "      <td>1.0</td>\n",
       "      <td>1.0</td>\n",
       "      <td>...</td>\n",
       "      <td>1.0</td>\n",
       "      <td>0.0</td>\n",
       "      <td>2.0</td>\n",
       "      <td>0.0</td>\n",
       "      <td>0.0</td>\n",
       "      <td>0.0</td>\n",
       "      <td>0.0</td>\n",
       "      <td>11.0</td>\n",
       "      <td>3.0</td>\n",
       "      <td>6.0</td>\n",
       "    </tr>\n",
       "    <tr>\n",
       "      <th>4</th>\n",
       "      <td>0.0</td>\n",
       "      <td>1.0</td>\n",
       "      <td>1.0</td>\n",
       "      <td>1.0</td>\n",
       "      <td>24.0</td>\n",
       "      <td>0.0</td>\n",
       "      <td>0.0</td>\n",
       "      <td>0.0</td>\n",
       "      <td>1.0</td>\n",
       "      <td>1.0</td>\n",
       "      <td>...</td>\n",
       "      <td>1.0</td>\n",
       "      <td>0.0</td>\n",
       "      <td>2.0</td>\n",
       "      <td>3.0</td>\n",
       "      <td>0.0</td>\n",
       "      <td>0.0</td>\n",
       "      <td>0.0</td>\n",
       "      <td>11.0</td>\n",
       "      <td>5.0</td>\n",
       "      <td>4.0</td>\n",
       "    </tr>\n",
       "  </tbody>\n",
       "</table>\n",
       "<p>5 rows × 22 columns</p>\n",
       "</div>"
      ],
      "text/plain": [
       "   HeartDiseaseorAttack  HighBP  HighChol  CholCheck   BMI  Smoker  Stroke  \\\n",
       "0                   0.0     1.0       1.0        1.0  40.0     1.0     0.0   \n",
       "1                   0.0     0.0       0.0        0.0  25.0     1.0     0.0   \n",
       "2                   0.0     1.0       1.0        1.0  28.0     0.0     0.0   \n",
       "3                   0.0     1.0       0.0        1.0  27.0     0.0     0.0   \n",
       "4                   0.0     1.0       1.0        1.0  24.0     0.0     0.0   \n",
       "\n",
       "   Diabetes  PhysActivity  Fruits  ...  AnyHealthcare  NoDocbcCost  GenHlth  \\\n",
       "0       0.0           0.0     0.0  ...            1.0          0.0      5.0   \n",
       "1       0.0           1.0     0.0  ...            0.0          1.0      3.0   \n",
       "2       0.0           0.0     1.0  ...            1.0          1.0      5.0   \n",
       "3       0.0           1.0     1.0  ...            1.0          0.0      2.0   \n",
       "4       0.0           1.0     1.0  ...            1.0          0.0      2.0   \n",
       "\n",
       "   MentHlth  PhysHlth  DiffWalk  Sex   Age  Education  Income  \n",
       "0      18.0      15.0       1.0  0.0   9.0        4.0     3.0  \n",
       "1       0.0       0.0       0.0  0.0   7.0        6.0     1.0  \n",
       "2      30.0      30.0       1.0  0.0   9.0        4.0     8.0  \n",
       "3       0.0       0.0       0.0  0.0  11.0        3.0     6.0  \n",
       "4       3.0       0.0       0.0  0.0  11.0        5.0     4.0  \n",
       "\n",
       "[5 rows x 22 columns]"
      ]
     },
     "execution_count": 64,
     "metadata": {},
     "output_type": "execute_result"
    }
   ],
   "source": [
    "import pandas as pd\n",
    "import numpy as np\n",
    "import matplotlib.pyplot as plt\n",
    "import seaborn as sns\n",
    "import tensorflow as tf\n",
    "from tensorflow import keras\n",
    "\n",
    "\n",
    "from sklearn.metrics import confusion_matrix, precision_score, recall_score, f1_score, roc_auc_score, accuracy_score\n",
    "from sklearn.model_selection import train_test_split\n",
    "from sklearn.preprocessing import StandardScaler\n",
    "from sklearn.utils import class_weight\n",
    "\n",
    "\n",
    "from keras.layers import Activation, Dense, Dropout\n",
    "\n",
    "\n",
    "\n",
    "\n",
    "\n",
    "\n",
    "\n",
    "from tensorflow.keras.models import Sequential\n",
    "\n",
    "\n",
    "\n",
    "\n",
    "\n",
    "\n",
    "\n",
    "\n",
    "df = pd.read_csv(\"heart_disease_health_indicators_BRFSS2015.csv\")\n",
    "df.head()"
   ]
  },
  {
   "cell_type": "code",
   "execution_count": 27,
   "id": "cd80faf5",
   "metadata": {},
   "outputs": [
    {
     "name": "stdout",
     "output_type": "stream",
     "text": [
      "<class 'pandas.core.frame.DataFrame'>\n",
      "RangeIndex: 253680 entries, 0 to 253679\n",
      "Data columns (total 22 columns):\n",
      " #   Column                Non-Null Count   Dtype  \n",
      "---  ------                --------------   -----  \n",
      " 0   HeartDiseaseorAttack  253680 non-null  float64\n",
      " 1   HighBP                253680 non-null  float64\n",
      " 2   HighChol              253680 non-null  float64\n",
      " 3   CholCheck             253680 non-null  float64\n",
      " 4   BMI                   253680 non-null  float64\n",
      " 5   Smoker                253680 non-null  float64\n",
      " 6   Stroke                253680 non-null  float64\n",
      " 7   Diabetes              253680 non-null  float64\n",
      " 8   PhysActivity          253680 non-null  float64\n",
      " 9   Fruits                253680 non-null  float64\n",
      " 10  Veggies               253680 non-null  float64\n",
      " 11  HvyAlcoholConsump     253680 non-null  float64\n",
      " 12  AnyHealthcare         253680 non-null  float64\n",
      " 13  NoDocbcCost           253680 non-null  float64\n",
      " 14  GenHlth               253680 non-null  float64\n",
      " 15  MentHlth              253680 non-null  float64\n",
      " 16  PhysHlth              253680 non-null  float64\n",
      " 17  DiffWalk              253680 non-null  float64\n",
      " 18  Sex                   253680 non-null  float64\n",
      " 19  Age                   253680 non-null  float64\n",
      " 20  Education             253680 non-null  float64\n",
      " 21  Income                253680 non-null  float64\n",
      "dtypes: float64(22)\n",
      "memory usage: 42.6 MB\n"
     ]
    }
   ],
   "source": [
    "df.info()"
   ]
  },
  {
   "cell_type": "code",
   "execution_count": 28,
   "id": "7bdf3fe8",
   "metadata": {},
   "outputs": [
    {
     "data": {
      "text/plain": [
       "Index(['HeartDiseaseorAttack', 'HighBP', 'HighChol', 'CholCheck', 'BMI',\n",
       "       'Smoker', 'Stroke', 'Diabetes', 'PhysActivity', 'Fruits', 'Veggies',\n",
       "       'HvyAlcoholConsump', 'AnyHealthcare', 'NoDocbcCost', 'DiffWalk', 'Sex',\n",
       "       'Age'],\n",
       "      dtype='object')"
      ]
     },
     "execution_count": 28,
     "metadata": {},
     "output_type": "execute_result"
    }
   ],
   "source": [
    "df = df.drop(columns = ['GenHlth', 'MentHlth','PhysHlth','Income','Education'])\n",
    "df.columns"
   ]
  },
  {
   "cell_type": "code",
   "execution_count": 53,
   "id": "533757ad",
   "metadata": {},
   "outputs": [
    {
     "name": "stdout",
     "output_type": "stream",
     "text": [
      "<class 'pandas.core.frame.DataFrame'>\n",
      "RangeIndex: 253680 entries, 0 to 253679\n",
      "Data columns (total 17 columns):\n",
      " #   Column                Non-Null Count   Dtype  \n",
      "---  ------                --------------   -----  \n",
      " 0   HeartDiseaseorAttack  253680 non-null  float64\n",
      " 1   HighBP                253680 non-null  float64\n",
      " 2   HighChol              253680 non-null  float64\n",
      " 3   CholCheck             253680 non-null  float64\n",
      " 4   BMI                   253680 non-null  float64\n",
      " 5   Smoker                253680 non-null  float64\n",
      " 6   Stroke                253680 non-null  float64\n",
      " 7   Diabetes              253680 non-null  float64\n",
      " 8   PhysActivity          253680 non-null  float64\n",
      " 9   Fruits                253680 non-null  float64\n",
      " 10  Veggies               253680 non-null  float64\n",
      " 11  HvyAlcoholConsump     253680 non-null  float64\n",
      " 12  AnyHealthcare         253680 non-null  float64\n",
      " 13  NoDocbcCost           253680 non-null  float64\n",
      " 14  DiffWalk              253680 non-null  float64\n",
      " 15  Sex                   253680 non-null  float64\n",
      " 16  Age                   253680 non-null  float64\n",
      "dtypes: float64(17)\n",
      "memory usage: 32.9 MB\n"
     ]
    }
   ],
   "source": [
    "\n",
    "df.info()"
   ]
  },
  {
   "cell_type": "code",
   "execution_count": 45,
   "id": "f11b482c",
   "metadata": {},
   "outputs": [],
   "source": [
    "y = df['HeartDiseaseorAttack'].values\n",
    "X = df.drop(columns='HeartDiseaseorAttack', axis=1).values"
   ]
  },
  {
   "cell_type": "code",
   "execution_count": 46,
   "id": "cde42c93",
   "metadata": {},
   "outputs": [],
   "source": [
    "X_train, X_test, y_train, y_test = train_test_split(X, y, test_size=0.2, random_state=42)"
   ]
  },
  {
   "cell_type": "code",
   "execution_count": 47,
   "id": "eb622902",
   "metadata": {},
   "outputs": [],
   "source": [
    "scaler = StandardScaler()\n",
    "\n",
    "X_scaler = scaler.fit(X_train)\n",
    "\n",
    "X_train_scaled = X_scaler.transform(X_train)\n",
    "X_test_scaled = X_scaler.transform(X_test)"
   ]
  },
  {
   "cell_type": "code",
   "execution_count": 62,
   "id": "2267e088",
   "metadata": {},
   "outputs": [],
   "source": [
    "\n",
    "# Calculate class weights which could be used in training\n",
    "class_weights = class_weight.compute_class_weight('balanced', classes=np.unique(y_train), y=y_train)\n",
    "class_weights = dict(enumerate(class_weights))"
   ]
  },
  {
   "cell_type": "code",
   "execution_count": 65,
   "id": "df174934",
   "metadata": {},
   "outputs": [
    {
     "name": "stdout",
     "output_type": "stream",
     "text": [
      "Model: \"sequential_5\"\n",
      "_________________________________________________________________\n",
      " Layer (type)                Output Shape              Param #   \n",
      "=================================================================\n",
      " dense_16 (Dense)            (None, 128)               2176      \n",
      "                                                                 \n",
      " dropout (Dropout)           (None, 128)               0         \n",
      "                                                                 \n",
      " dense_17 (Dense)            (None, 64)                8256      \n",
      "                                                                 \n",
      " dropout_1 (Dropout)         (None, 64)                0         \n",
      "                                                                 \n",
      " dense_18 (Dense)            (None, 32)                2080      \n",
      "                                                                 \n",
      " dropout_2 (Dropout)         (None, 32)                0         \n",
      "                                                                 \n",
      " dense_19 (Dense)            (None, 1)                 33        \n",
      "                                                                 \n",
      "=================================================================\n",
      "Total params: 12545 (49.00 KB)\n",
      "Trainable params: 12545 (49.00 KB)\n",
      "Non-trainable params: 0 (0.00 Byte)\n",
      "_________________________________________________________________\n"
     ]
    }
   ],
   "source": [
    "nn = tf.keras.models.Sequential()\n",
    "\n",
    "# First hidden layer\n",
    "nn.add(Dense(units=128, activation = \"relu\", input_dim= len(X_train[0])))\n",
    "nn.add(Dropout(0.5))\n",
    "\n",
    "# Second hidden layer\n",
    "nn.add(Dense(units=64, activation = \"relu\"))\n",
    "nn.add(Dropout(0.5))\n",
    "# Third hidden layer\n",
    "nn.add(Dense(32, activation=\"relu\"))\n",
    "nn.add(Dropout(0.5))\n",
    "\n",
    "\n",
    "# Output layer\n",
    "nn.add(tf.keras.layers.Dense(units=1, activation=\"sigmoid\"))\n",
    "\n",
    "nn.summary()"
   ]
  },
  {
   "cell_type": "code",
   "execution_count": 66,
   "id": "4c2bcce1",
   "metadata": {},
   "outputs": [],
   "source": [
    "nn.compile(loss=\"binary_crossentropy\", optimizer= \"adam\", metrics= [\"accuracy\"])"
   ]
  },
  {
   "cell_type": "code",
   "execution_count": 67,
   "id": "1a649a1a",
   "metadata": {},
   "outputs": [],
   "source": [
    "# Implementing early stopping\n",
    "early_stopping = tf.keras.callbacks.EarlyStopping(monitor='val_loss', patience=10, restore_best_weights=True)"
   ]
  },
  {
   "cell_type": "code",
   "execution_count": 68,
   "id": "a002ca32",
   "metadata": {},
   "outputs": [
    {
     "name": "stdout",
     "output_type": "stream",
     "text": [
      "Epoch 1/100\n",
      "5708/5708 [==============================] - 7s 1ms/step - loss: 0.5403 - accuracy: 0.6886 - val_loss: 0.5026 - val_accuracy: 0.7005\n",
      "Epoch 2/100\n",
      "5708/5708 [==============================] - 6s 1ms/step - loss: 0.5218 - accuracy: 0.7015 - val_loss: 0.5100 - val_accuracy: 0.7110\n",
      "Epoch 3/100\n",
      "5708/5708 [==============================] - 7s 1ms/step - loss: 0.5194 - accuracy: 0.7090 - val_loss: 0.5008 - val_accuracy: 0.7175\n",
      "Epoch 4/100\n",
      "5708/5708 [==============================] - 7s 1ms/step - loss: 0.5177 - accuracy: 0.7109 - val_loss: 0.4670 - val_accuracy: 0.7299\n",
      "Epoch 5/100\n",
      "5708/5708 [==============================] - 7s 1ms/step - loss: 0.5175 - accuracy: 0.7133 - val_loss: 0.5535 - val_accuracy: 0.6844\n",
      "Epoch 6/100\n",
      "5708/5708 [==============================] - 7s 1ms/step - loss: 0.5179 - accuracy: 0.7168 - val_loss: 0.4794 - val_accuracy: 0.7132\n",
      "Epoch 7/100\n",
      "5708/5708 [==============================] - 7s 1ms/step - loss: 0.5171 - accuracy: 0.7170 - val_loss: 0.4707 - val_accuracy: 0.7274\n",
      "Epoch 8/100\n",
      "5708/5708 [==============================] - 7s 1ms/step - loss: 0.5180 - accuracy: 0.7180 - val_loss: 0.5129 - val_accuracy: 0.7140\n",
      "Epoch 9/100\n",
      "5708/5708 [==============================] - 7s 1ms/step - loss: 0.5159 - accuracy: 0.7229 - val_loss: 0.4966 - val_accuracy: 0.7026\n",
      "Epoch 10/100\n",
      "5708/5708 [==============================] - 7s 1ms/step - loss: 0.5155 - accuracy: 0.7199 - val_loss: 0.4996 - val_accuracy: 0.7008\n",
      "Epoch 11/100\n",
      "5708/5708 [==============================] - 7s 1ms/step - loss: 0.5151 - accuracy: 0.7215 - val_loss: 0.4887 - val_accuracy: 0.7271\n",
      "Epoch 12/100\n",
      "5708/5708 [==============================] - 7s 1ms/step - loss: 0.5171 - accuracy: 0.7212 - val_loss: 0.5235 - val_accuracy: 0.7208\n",
      "Epoch 13/100\n",
      "5708/5708 [==============================] - 7s 1ms/step - loss: 0.5167 - accuracy: 0.7215 - val_loss: 0.5169 - val_accuracy: 0.7048\n",
      "Epoch 14/100\n",
      "5708/5708 [==============================] - 7s 1ms/step - loss: 0.5151 - accuracy: 0.7222 - val_loss: 0.5344 - val_accuracy: 0.6948\n"
     ]
    }
   ],
   "source": [
    "nn_fitted = nn.fit(X_train_scaled, y_train, epochs=100, batch_size=32, class_weight=class_weights, validation_split=0.1, callbacks=[early_stopping])"
   ]
  },
  {
   "cell_type": "code",
   "execution_count": 36,
   "id": "1ea77a27",
   "metadata": {
    "scrolled": true
   },
   "outputs": [
    {
     "name": "stdout",
     "output_type": "stream",
     "text": [
      "Epoch 1/150\n",
      "6342/6342 [==============================] - 6s 858us/step - loss: 0.2486 - accuracy: 0.9065\n",
      "Epoch 2/150\n",
      "6342/6342 [==============================] - 6s 871us/step - loss: 0.2455 - accuracy: 0.9069\n",
      "Epoch 3/150\n",
      "6342/6342 [==============================] - 5s 788us/step - loss: 0.2449 - accuracy: 0.9068\n",
      "Epoch 4/150\n",
      "6342/6342 [==============================] - 5s 794us/step - loss: 0.2444 - accuracy: 0.9071\n",
      "Epoch 5/150\n",
      "6342/6342 [==============================] - 5s 790us/step - loss: 0.2443 - accuracy: 0.9074\n",
      "Epoch 6/150\n",
      "6342/6342 [==============================] - 5s 766us/step - loss: 0.2441 - accuracy: 0.9073\n",
      "Epoch 7/150\n",
      "6342/6342 [==============================] - 5s 776us/step - loss: 0.2438 - accuracy: 0.9072\n",
      "Epoch 8/150\n",
      "6342/6342 [==============================] - 5s 788us/step - loss: 0.2436 - accuracy: 0.9073\n",
      "Epoch 9/150\n",
      "6342/6342 [==============================] - 5s 766us/step - loss: 0.2435 - accuracy: 0.9073\n",
      "Epoch 10/150\n",
      "6342/6342 [==============================] - 5s 768us/step - loss: 0.2433 - accuracy: 0.9072\n",
      "Epoch 11/150\n",
      "6342/6342 [==============================] - 5s 760us/step - loss: 0.2430 - accuracy: 0.9074\n",
      "Epoch 12/150\n",
      "6342/6342 [==============================] - 5s 788us/step - loss: 0.2429 - accuracy: 0.9075\n",
      "Epoch 13/150\n",
      "6342/6342 [==============================] - 5s 788us/step - loss: 0.2426 - accuracy: 0.9077\n",
      "Epoch 14/150\n",
      "6342/6342 [==============================] - 5s 791us/step - loss: 0.2423 - accuracy: 0.9076\n",
      "Epoch 15/150\n",
      "6342/6342 [==============================] - 5s 777us/step - loss: 0.2421 - accuracy: 0.9078\n",
      "Epoch 16/150\n",
      "6342/6342 [==============================] - 5s 808us/step - loss: 0.2420 - accuracy: 0.9080\n",
      "Epoch 17/150\n",
      "6342/6342 [==============================] - 5s 781us/step - loss: 0.2416 - accuracy: 0.9080\n",
      "Epoch 18/150\n",
      "6342/6342 [==============================] - 5s 773us/step - loss: 0.2414 - accuracy: 0.9079\n",
      "Epoch 19/150\n",
      "6342/6342 [==============================] - 5s 794us/step - loss: 0.2412 - accuracy: 0.9080\n",
      "Epoch 20/150\n",
      "6342/6342 [==============================] - 5s 784us/step - loss: 0.2409 - accuracy: 0.9081\n",
      "Epoch 21/150\n",
      "6342/6342 [==============================] - 5s 788us/step - loss: 0.2405 - accuracy: 0.9084\n",
      "Epoch 22/150\n",
      "6342/6342 [==============================] - 5s 770us/step - loss: 0.2405 - accuracy: 0.9084\n",
      "Epoch 23/150\n",
      "6342/6342 [==============================] - 5s 771us/step - loss: 0.2401 - accuracy: 0.9084\n",
      "Epoch 24/150\n",
      "6342/6342 [==============================] - 5s 774us/step - loss: 0.2396 - accuracy: 0.9085\n",
      "Epoch 25/150\n",
      "6342/6342 [==============================] - 5s 771us/step - loss: 0.2396 - accuracy: 0.9086\n",
      "Epoch 26/150\n",
      "6342/6342 [==============================] - 5s 767us/step - loss: 0.2393 - accuracy: 0.9090\n",
      "Epoch 27/150\n",
      "6342/6342 [==============================] - 5s 786us/step - loss: 0.2389 - accuracy: 0.9090\n",
      "Epoch 28/150\n",
      "6342/6342 [==============================] - 5s 782us/step - loss: 0.2387 - accuracy: 0.9088\n",
      "Epoch 29/150\n",
      "6342/6342 [==============================] - 5s 799us/step - loss: 0.2385 - accuracy: 0.9090\n",
      "Epoch 30/150\n",
      "6342/6342 [==============================] - 5s 759us/step - loss: 0.2383 - accuracy: 0.9091\n",
      "Epoch 31/150\n",
      "6342/6342 [==============================] - 5s 789us/step - loss: 0.2381 - accuracy: 0.9093\n",
      "Epoch 32/150\n",
      "6342/6342 [==============================] - 5s 760us/step - loss: 0.2377 - accuracy: 0.9094\n",
      "Epoch 33/150\n",
      "6342/6342 [==============================] - 5s 803us/step - loss: 0.2374 - accuracy: 0.9093\n",
      "Epoch 34/150\n",
      "6342/6342 [==============================] - 5s 795us/step - loss: 0.2372 - accuracy: 0.9094\n",
      "Epoch 35/150\n",
      "6342/6342 [==============================] - 5s 781us/step - loss: 0.2369 - accuracy: 0.9097\n",
      "Epoch 36/150\n",
      "6342/6342 [==============================] - 5s 766us/step - loss: 0.2367 - accuracy: 0.9093\n",
      "Epoch 37/150\n",
      "6342/6342 [==============================] - 5s 777us/step - loss: 0.2367 - accuracy: 0.9097\n",
      "Epoch 38/150\n",
      "6342/6342 [==============================] - 5s 779us/step - loss: 0.2364 - accuracy: 0.9097\n",
      "Epoch 39/150\n",
      "6342/6342 [==============================] - 5s 780us/step - loss: 0.2361 - accuracy: 0.9100\n",
      "Epoch 40/150\n",
      "6342/6342 [==============================] - 5s 767us/step - loss: 0.2358 - accuracy: 0.9099\n",
      "Epoch 41/150\n",
      "6342/6342 [==============================] - 5s 791us/step - loss: 0.2358 - accuracy: 0.9102\n",
      "Epoch 42/150\n",
      "6342/6342 [==============================] - 5s 778us/step - loss: 0.2353 - accuracy: 0.9101\n",
      "Epoch 43/150\n",
      "6342/6342 [==============================] - 5s 794us/step - loss: 0.2352 - accuracy: 0.9104\n",
      "Epoch 44/150\n",
      "6342/6342 [==============================] - 5s 788us/step - loss: 0.2351 - accuracy: 0.9105\n",
      "Epoch 45/150\n",
      "6342/6342 [==============================] - 5s 782us/step - loss: 0.2348 - accuracy: 0.9106\n",
      "Epoch 46/150\n",
      "6342/6342 [==============================] - 5s 849us/step - loss: 0.2348 - accuracy: 0.9104\n",
      "Epoch 47/150\n",
      "6342/6342 [==============================] - 7s 1ms/step - loss: 0.2344 - accuracy: 0.9103\n",
      "Epoch 48/150\n",
      "6342/6342 [==============================] - 7s 1ms/step - loss: 0.2343 - accuracy: 0.9106\n",
      "Epoch 49/150\n",
      "6342/6342 [==============================] - 6s 994us/step - loss: 0.2341 - accuracy: 0.9106\n",
      "Epoch 50/150\n",
      "6342/6342 [==============================] - 7s 1ms/step - loss: 0.2340 - accuracy: 0.9107\n",
      "Epoch 51/150\n",
      "6342/6342 [==============================] - 6s 1ms/step - loss: 0.2337 - accuracy: 0.9109\n",
      "Epoch 52/150\n",
      "6342/6342 [==============================] - 7s 1ms/step - loss: 0.2335 - accuracy: 0.9111\n",
      "Epoch 53/150\n",
      "6342/6342 [==============================] - 7s 1ms/step - loss: 0.2333 - accuracy: 0.9111\n",
      "Epoch 54/150\n",
      "6342/6342 [==============================] - 7s 1ms/step - loss: 0.2331 - accuracy: 0.9108\n",
      "Epoch 55/150\n",
      "6342/6342 [==============================] - 7s 1ms/step - loss: 0.2329 - accuracy: 0.9109\n",
      "Epoch 56/150\n",
      "6342/6342 [==============================] - 6s 987us/step - loss: 0.2328 - accuracy: 0.9113\n",
      "Epoch 57/150\n",
      "6342/6342 [==============================] - 7s 1ms/step - loss: 0.2328 - accuracy: 0.9113\n",
      "Epoch 58/150\n",
      "6342/6342 [==============================] - 7s 1ms/step - loss: 0.2324 - accuracy: 0.9113\n",
      "Epoch 59/150\n",
      "6342/6342 [==============================] - 6s 1ms/step - loss: 0.2322 - accuracy: 0.9112\n",
      "Epoch 60/150\n",
      "6342/6342 [==============================] - 7s 1ms/step - loss: 0.2325 - accuracy: 0.9111\n",
      "Epoch 61/150\n",
      "6342/6342 [==============================] - 6s 988us/step - loss: 0.2321 - accuracy: 0.9116\n",
      "Epoch 62/150\n",
      "6342/6342 [==============================] - 7s 1ms/step - loss: 0.2321 - accuracy: 0.9114\n",
      "Epoch 63/150\n",
      "6342/6342 [==============================] - 7s 1ms/step - loss: 0.2320 - accuracy: 0.9118\n",
      "Epoch 64/150\n",
      "6342/6342 [==============================] - 6s 1ms/step - loss: 0.2314 - accuracy: 0.9118\n",
      "Epoch 65/150\n",
      "6342/6342 [==============================] - 6s 1ms/step - loss: 0.2316 - accuracy: 0.9115\n",
      "Epoch 66/150\n",
      "6342/6342 [==============================] - 7s 1ms/step - loss: 0.2315 - accuracy: 0.9118\n",
      "Epoch 67/150\n",
      "6342/6342 [==============================] - 6s 995us/step - loss: 0.2313 - accuracy: 0.9120\n",
      "Epoch 68/150\n",
      "6342/6342 [==============================] - 6s 1ms/step - loss: 0.2314 - accuracy: 0.9117\n",
      "Epoch 69/150\n",
      "6342/6342 [==============================] - 7s 1ms/step - loss: 0.2310 - accuracy: 0.9118\n",
      "Epoch 70/150\n",
      "6342/6342 [==============================] - 7s 1ms/step - loss: 0.2310 - accuracy: 0.9122\n",
      "Epoch 71/150\n",
      "6342/6342 [==============================] - 6s 1ms/step - loss: 0.2311 - accuracy: 0.9119\n",
      "Epoch 72/150\n",
      "6342/6342 [==============================] - 7s 1ms/step - loss: 0.2308 - accuracy: 0.9119\n",
      "Epoch 73/150\n",
      "6342/6342 [==============================] - 6s 1ms/step - loss: 0.2304 - accuracy: 0.9122\n",
      "Epoch 74/150\n",
      "6342/6342 [==============================] - 7s 1ms/step - loss: 0.2305 - accuracy: 0.9116\n",
      "Epoch 75/150\n",
      "6342/6342 [==============================] - 7s 1ms/step - loss: 0.2306 - accuracy: 0.9121\n",
      "Epoch 76/150\n",
      "6342/6342 [==============================] - 6s 1ms/step - loss: 0.2302 - accuracy: 0.9120\n",
      "Epoch 77/150\n",
      "6342/6342 [==============================] - 7s 1ms/step - loss: 0.2299 - accuracy: 0.9126\n",
      "Epoch 78/150\n",
      "6342/6342 [==============================] - 6s 1ms/step - loss: 0.2301 - accuracy: 0.9123\n",
      "Epoch 79/150\n",
      "6342/6342 [==============================] - 6s 1ms/step - loss: 0.2299 - accuracy: 0.9124\n",
      "Epoch 80/150\n",
      "6342/6342 [==============================] - 6s 1ms/step - loss: 0.2300 - accuracy: 0.9122\n",
      "Epoch 81/150\n",
      "6342/6342 [==============================] - 6s 998us/step - loss: 0.2297 - accuracy: 0.9123\n",
      "Epoch 82/150\n",
      "6342/6342 [==============================] - 6s 1ms/step - loss: 0.2296 - accuracy: 0.9124\n",
      "Epoch 83/150\n",
      "6342/6342 [==============================] - 7s 1ms/step - loss: 0.2295 - accuracy: 0.9125\n",
      "Epoch 84/150\n",
      "6342/6342 [==============================] - 6s 998us/step - loss: 0.2294 - accuracy: 0.9126\n",
      "Epoch 85/150\n",
      "6342/6342 [==============================] - 7s 1ms/step - loss: 0.2294 - accuracy: 0.9126\n",
      "Epoch 86/150\n",
      "6342/6342 [==============================] - 6s 1ms/step - loss: 0.2293 - accuracy: 0.9128\n",
      "Epoch 87/150\n",
      "6342/6342 [==============================] - 7s 1ms/step - loss: 0.2291 - accuracy: 0.9126\n",
      "Epoch 88/150\n",
      "6342/6342 [==============================] - 6s 992us/step - loss: 0.2291 - accuracy: 0.9127\n",
      "Epoch 89/150\n",
      "6342/6342 [==============================] - 7s 1ms/step - loss: 0.2290 - accuracy: 0.9127\n",
      "Epoch 90/150\n",
      "6342/6342 [==============================] - 6s 1ms/step - loss: 0.2291 - accuracy: 0.9127\n",
      "Epoch 91/150\n",
      "6342/6342 [==============================] - 6s 1ms/step - loss: 0.2289 - accuracy: 0.9128\n",
      "Epoch 92/150\n",
      "6342/6342 [==============================] - 6s 1ms/step - loss: 0.2288 - accuracy: 0.9128\n",
      "Epoch 93/150\n",
      "6342/6342 [==============================] - 6s 998us/step - loss: 0.2289 - accuracy: 0.9130\n",
      "Epoch 94/150\n",
      "6342/6342 [==============================] - 6s 1ms/step - loss: 0.2288 - accuracy: 0.9128\n",
      "Epoch 95/150\n",
      "6342/6342 [==============================] - 6s 1ms/step - loss: 0.2288 - accuracy: 0.9129\n",
      "Epoch 96/150\n",
      "6342/6342 [==============================] - 6s 998us/step - loss: 0.2286 - accuracy: 0.9130\n",
      "Epoch 97/150\n",
      "6342/6342 [==============================] - 6s 995us/step - loss: 0.2282 - accuracy: 0.9131\n",
      "Epoch 98/150\n",
      "6342/6342 [==============================] - 6s 1ms/step - loss: 0.2284 - accuracy: 0.9131\n",
      "Epoch 99/150\n",
      "6342/6342 [==============================] - 7s 1ms/step - loss: 0.2281 - accuracy: 0.9130\n",
      "Epoch 100/150\n",
      "6342/6342 [==============================] - 6s 1ms/step - loss: 0.2282 - accuracy: 0.9132\n",
      "Epoch 101/150\n",
      "6342/6342 [==============================] - 6s 1ms/step - loss: 0.2282 - accuracy: 0.9132\n",
      "Epoch 102/150\n",
      "6342/6342 [==============================] - 7s 1ms/step - loss: 0.2288 - accuracy: 0.9131\n",
      "Epoch 103/150\n",
      "6342/6342 [==============================] - 6s 1ms/step - loss: 0.2279 - accuracy: 0.9132\n",
      "Epoch 104/150\n",
      "6342/6342 [==============================] - 7s 1ms/step - loss: 0.2282 - accuracy: 0.9134\n",
      "Epoch 105/150\n",
      "6342/6342 [==============================] - 7s 1ms/step - loss: 0.2281 - accuracy: 0.9133\n",
      "Epoch 106/150\n",
      "6342/6342 [==============================] - 6s 1ms/step - loss: 0.2278 - accuracy: 0.9134\n",
      "Epoch 107/150\n",
      "6342/6342 [==============================] - 6s 989us/step - loss: 0.2280 - accuracy: 0.9132\n",
      "Epoch 108/150\n",
      "6342/6342 [==============================] - 7s 1ms/step - loss: 0.2277 - accuracy: 0.9135\n",
      "Epoch 109/150\n",
      "6342/6342 [==============================] - 6s 1ms/step - loss: 0.2275 - accuracy: 0.9135\n",
      "Epoch 110/150\n",
      "6342/6342 [==============================] - 6s 1ms/step - loss: 0.2274 - accuracy: 0.9131\n",
      "Epoch 111/150\n",
      "6342/6342 [==============================] - 7s 1ms/step - loss: 0.2275 - accuracy: 0.9135\n",
      "Epoch 112/150\n",
      "6342/6342 [==============================] - 7s 1ms/step - loss: 0.2273 - accuracy: 0.9135\n",
      "Epoch 113/150\n",
      "6342/6342 [==============================] - 6s 1ms/step - loss: 0.2276 - accuracy: 0.9135\n",
      "Epoch 114/150\n",
      "6342/6342 [==============================] - 6s 995us/step - loss: 0.2273 - accuracy: 0.9136\n",
      "Epoch 115/150\n",
      "6342/6342 [==============================] - 6s 1ms/step - loss: 0.2275 - accuracy: 0.9135\n",
      "Epoch 116/150\n",
      "6342/6342 [==============================] - 6s 994us/step - loss: 0.2269 - accuracy: 0.9138\n",
      "Epoch 117/150\n",
      "6342/6342 [==============================] - 6s 993us/step - loss: 0.2270 - accuracy: 0.9137\n",
      "Epoch 118/150\n",
      "6342/6342 [==============================] - 7s 1ms/step - loss: 0.2270 - accuracy: 0.9136\n",
      "Epoch 119/150\n",
      "6342/6342 [==============================] - 7s 1ms/step - loss: 0.2275 - accuracy: 0.9134\n",
      "Epoch 120/150\n",
      "6342/6342 [==============================] - 6s 1ms/step - loss: 0.2270 - accuracy: 0.9137\n",
      "Epoch 121/150\n",
      "6342/6342 [==============================] - 7s 1ms/step - loss: 0.2270 - accuracy: 0.9137\n",
      "Epoch 122/150\n",
      "6342/6342 [==============================] - 7s 1ms/step - loss: 0.2267 - accuracy: 0.9137\n",
      "Epoch 123/150\n",
      "6342/6342 [==============================] - 6s 998us/step - loss: 0.2270 - accuracy: 0.9137\n",
      "Epoch 124/150\n",
      "6342/6342 [==============================] - 7s 1ms/step - loss: 0.2268 - accuracy: 0.9137\n",
      "Epoch 125/150\n",
      "6342/6342 [==============================] - 6s 1ms/step - loss: 0.2270 - accuracy: 0.9139\n",
      "Epoch 126/150\n",
      "6342/6342 [==============================] - 6s 1ms/step - loss: 0.2267 - accuracy: 0.9136\n",
      "Epoch 127/150\n",
      "6342/6342 [==============================] - 7s 1ms/step - loss: 0.2269 - accuracy: 0.9138\n",
      "Epoch 128/150\n",
      "6342/6342 [==============================] - 6s 1ms/step - loss: 0.2268 - accuracy: 0.9136\n",
      "Epoch 129/150\n",
      "6342/6342 [==============================] - 6s 996us/step - loss: 0.2267 - accuracy: 0.9137\n",
      "Epoch 130/150\n",
      "6342/6342 [==============================] - 7s 1ms/step - loss: 0.2264 - accuracy: 0.9139\n",
      "Epoch 131/150\n",
      "6342/6342 [==============================] - 6s 1000us/step - loss: 0.2264 - accuracy: 0.9140\n",
      "Epoch 132/150\n",
      "6342/6342 [==============================] - 6s 1ms/step - loss: 0.2268 - accuracy: 0.9142\n",
      "Epoch 133/150\n",
      "6342/6342 [==============================] - 6s 1ms/step - loss: 0.2266 - accuracy: 0.9137\n",
      "Epoch 134/150\n",
      "6342/6342 [==============================] - 6s 1ms/step - loss: 0.2264 - accuracy: 0.9139\n",
      "Epoch 135/150\n",
      "6342/6342 [==============================] - 6s 988us/step - loss: 0.2264 - accuracy: 0.9138\n",
      "Epoch 136/150\n",
      "6342/6342 [==============================] - 7s 1ms/step - loss: 0.2263 - accuracy: 0.9141\n",
      "Epoch 137/150\n",
      "6342/6342 [==============================] - 6s 944us/step - loss: 0.2263 - accuracy: 0.9141\n",
      "Epoch 138/150\n",
      "6342/6342 [==============================] - 5s 779us/step - loss: 0.2263 - accuracy: 0.9141\n",
      "Epoch 139/150\n",
      "6342/6342 [==============================] - 5s 778us/step - loss: 0.2263 - accuracy: 0.9141\n",
      "Epoch 140/150\n",
      "6342/6342 [==============================] - 5s 809us/step - loss: 0.2264 - accuracy: 0.9139\n",
      "Epoch 141/150\n",
      "6342/6342 [==============================] - 5s 774us/step - loss: 0.2262 - accuracy: 0.9139\n",
      "Epoch 142/150\n",
      "6342/6342 [==============================] - 5s 779us/step - loss: 0.2261 - accuracy: 0.9139\n",
      "Epoch 143/150\n",
      "6342/6342 [==============================] - 5s 783us/step - loss: 0.2261 - accuracy: 0.9139\n",
      "Epoch 144/150\n",
      "6342/6342 [==============================] - 5s 786us/step - loss: 0.2263 - accuracy: 0.9141\n",
      "Epoch 145/150\n",
      "6342/6342 [==============================] - 5s 792us/step - loss: 0.2265 - accuracy: 0.9139\n",
      "Epoch 146/150\n",
      "6342/6342 [==============================] - 5s 775us/step - loss: 0.2263 - accuracy: 0.9140\n",
      "Epoch 147/150\n",
      "6342/6342 [==============================] - 5s 787us/step - loss: 0.2258 - accuracy: 0.9140\n",
      "Epoch 148/150\n",
      "6342/6342 [==============================] - 5s 782us/step - loss: 0.2260 - accuracy: 0.9140\n",
      "Epoch 149/150\n",
      "6342/6342 [==============================] - 5s 802us/step - loss: 0.2259 - accuracy: 0.9141\n",
      "Epoch 150/150\n",
      "6342/6342 [==============================] - 5s 782us/step - loss: 0.2259 - accuracy: 0.9138\n"
     ]
    }
   ],
   "source": [
    "nn_fitted = nn.fit(X_train_scaled,y_train, epochs=150,batch_size=32)"
   ]
  },
  {
   "cell_type": "code",
   "execution_count": 69,
   "id": "0dcc7bf7",
   "metadata": {},
   "outputs": [
    {
     "name": "stdout",
     "output_type": "stream",
     "text": [
      "1586/1586 - 1s - loss: 0.4669 - accuracy: 0.7328 - 858ms/epoch - 541us/step\n",
      "Loss: 0.466871976852417, Accuracy: 0.7327932715415955\n"
     ]
    }
   ],
   "source": [
    "model_loss, model_accuracy = nn.evaluate(X_test_scaled,y_test,verbose=2)\n",
    "print(f\"Loss: {model_loss}, Accuracy: {model_accuracy}\")"
   ]
  },
  {
   "cell_type": "code",
   "execution_count": 91,
   "id": "a1fa0bcb",
   "metadata": {},
   "outputs": [],
   "source": [
    "nn.save(\"./Models/Heart_Disease_Pred.h5\")"
   ]
  },
  {
   "cell_type": "markdown",
   "id": "eaf2b362",
   "metadata": {},
   "source": [
    "# TESTING THE MODEL"
   ]
  },
  {
   "cell_type": "code",
   "execution_count": 70,
   "id": "6033891a",
   "metadata": {},
   "outputs": [
    {
     "name": "stdout",
     "output_type": "stream",
     "text": [
      "1586/1586 [==============================] - 1s 559us/step\n",
      "1586/1586 [==============================] - 1s 534us/step\n"
     ]
    }
   ],
   "source": [
    "# Predicting the probabilities of the positive class for the ROC-AUC score\n",
    "y_pred_probs = nn.predict(X_test_scaled)\n",
    "\n",
    "# Predicting class labels for the confusion matrix, precision, recall, and F1-score\n",
    "y_pred = (nn.predict(X_test_scaled) > 0.5).astype(\"int32\")"
   ]
  },
  {
   "cell_type": "code",
   "execution_count": 71,
   "id": "9aadc432",
   "metadata": {},
   "outputs": [
    {
     "name": "stdout",
     "output_type": "stream",
     "text": [
      "Confusion Matrix:\n",
      " [[33390 12578]\n",
      " [  979  3789]]\n"
     ]
    }
   ],
   "source": [
    "# Confusion Matrix\n",
    "cm = confusion_matrix(y_test, y_pred)\n",
    "print(\"Confusion Matrix:\\n\", cm)"
   ]
  },
  {
   "cell_type": "code",
   "execution_count": 40,
   "id": "74100f20",
   "metadata": {},
   "outputs": [
    {
     "name": "stdout",
     "output_type": "stream",
     "text": [
      "Confusion Matrix:\n",
      " [[45248   720]\n",
      " [ 4186   582]]\n"
     ]
    }
   ],
   "source": [
    "# Confusion Matrix\n",
    "cm = confusion_matrix(y_test, y_pred)\n",
    "print(\"Confusion Matrix:\\n\", cm)\n"
   ]
  },
  {
   "cell_type": "code",
   "execution_count": 72,
   "id": "278c122c",
   "metadata": {},
   "outputs": [
    {
     "name": "stdout",
     "output_type": "stream",
     "text": [
      "Precision: 0.23\n"
     ]
    }
   ],
   "source": [
    "# Precision\n",
    "precision = precision_score(y_test, y_pred)\n",
    "print(\"Precision: {:.2f}\".format(precision))\n"
   ]
  },
  {
   "cell_type": "code",
   "execution_count": 73,
   "id": "edf4397d",
   "metadata": {},
   "outputs": [
    {
     "name": "stdout",
     "output_type": "stream",
     "text": [
      "Recall: 0.79\n"
     ]
    }
   ],
   "source": [
    "# Recall\n",
    "recall = recall_score(y_test, y_pred)\n",
    "print(\"Recall: {:.2f}\".format(recall))\n"
   ]
  },
  {
   "cell_type": "code",
   "execution_count": 74,
   "id": "f09737a9",
   "metadata": {},
   "outputs": [
    {
     "name": "stdout",
     "output_type": "stream",
     "text": [
      "F1-Score: 0.36\n"
     ]
    }
   ],
   "source": [
    "# F1-Score\n",
    "f1 = f1_score(y_test, y_pred)\n",
    "print(\"F1-Score: {:.2f}\".format(f1))\n"
   ]
  },
  {
   "cell_type": "code",
   "execution_count": 75,
   "id": "10938bcd",
   "metadata": {},
   "outputs": [
    {
     "name": "stdout",
     "output_type": "stream",
     "text": [
      "ROC-AUC Score: 0.84\n"
     ]
    }
   ],
   "source": [
    "\n",
    "# ROC-AUC Score\n",
    "# Ensure y_pred_probs are the probabilities of the positive class (class 1)\n",
    "roc_auc = roc_auc_score(y_test, y_pred_probs)\n",
    "print(\"ROC-AUC Score: {:.2f}\".format(roc_auc))"
   ]
  },
  {
   "cell_type": "code",
   "execution_count": 84,
   "id": "e6ee9805",
   "metadata": {},
   "outputs": [
    {
     "data": {
      "image/png": "[encoded data removed]",
      "text/plain": [
       "<Figure size 640x480 with 2 Axes>"
      ]
     },
     "metadata": {},
     "output_type": "display_data"
    }
   ],
   "source": [
    "sns.heatmap(cm, annot=True, fmt='d', cmap='Blues')\n",
    "plt.xlabel('Predicted Label')\n",
    "plt.ylabel('True Label')\n",
    "plt.title('Confusion Matrix')\n",
    "plt.show()"
   ]
  },
  {
   "cell_type": "markdown",
   "id": "4a75bf8f",
   "metadata": {},
   "source": [
    "# Reloading Model and Predicting"
   ]
  },
  {
   "cell_type": "code",
   "execution_count": 85,
   "id": "e9da7d1b",
   "metadata": {},
   "outputs": [],
   "source": [
    "reloded_Heart_Disease_Pred = keras.models.load_model(\"Heart_Disease_Pred.h5\")"
   ]
  },
  {
   "cell_type": "code",
   "execution_count": 86,
   "id": "87cbcf29",
   "metadata": {},
   "outputs": [],
   "source": [
    "new_data = [[1, 0, 1, 30,\n",
    "       0, 0, 0, 1, 1, 1,\n",
    "       0, 1, 0, 0, 0,33]]"
   ]
  },
  {
   "cell_type": "code",
   "execution_count": 87,
   "id": "97f8aea0",
   "metadata": {},
   "outputs": [
    {
     "name": "stderr",
     "output_type": "stream",
     "text": [
      "/home/arnold/anaconda3/envs/ml/lib/python3.11/site-packages/sklearn/base.py:458: UserWarning: X has feature names, but StandardScaler was fitted without feature names\n",
      "  warnings.warn(\n"
     ]
    }
   ],
   "source": [
    "new_data_df = pd.DataFrame(new_data, columns=['HighBP', 'HighChol', 'CholCheck', 'BMI',\n",
    "       'Smoker', 'Stroke', 'Diabetes', 'PhysActivity', 'Fruits', 'Veggies',\n",
    "       'HvyAlcoholConsump', 'AnyHealthcare', 'NoDocbcCost', 'DiffWalk', 'Sex','Age'])\n",
    "new_data_scaled = scaler.transform(new_data_df)"
   ]
  },
  {
   "cell_type": "code",
   "execution_count": 88,
   "id": "a878de7d",
   "metadata": {},
   "outputs": [
    {
     "name": "stdout",
     "output_type": "stream",
     "text": [
      "1/1 [==============================] - 0s 30ms/step\n"
     ]
    }
   ],
   "source": [
    "prediction = reloded_Heart_Disease_Pred.predict(new_data_scaled)"
   ]
  },
  {
   "cell_type": "code",
   "execution_count": 89,
   "id": "cc3146b2",
   "metadata": {
    "scrolled": true
   },
   "outputs": [
    {
     "name": "stdout",
     "output_type": "stream",
     "text": [
      "prediction: [[0.9224643]]\n"
     ]
    }
   ],
   "source": [
    "print(f\"prediction: {prediction}\")"
   ]
  },
  {
   "cell_type": "code",
   "execution_count": null,
   "id": "1ae4a513",
   "metadata": {},
   "outputs": [],
   "source": []
  },
  {
   "cell_type": "code",
   "execution_count": null,
   "id": "e6264414",
   "metadata": {},
   "outputs": [],
   "source": []
  }
 ],
 "metadata": {
  "kernelspec": {
   "display_name": "Python 3 (ipykernel)",
   "language": "python",
   "name": "python3"
  },
  "language_info": {
   "codemirror_mode": {
    "name": "ipython",
    "version": 3
   },
   "file_extension": ".py",
   "mimetype": "text/x-python",
   "name": "python",
   "nbconvert_exporter": "python",
   "pygments_lexer": "ipython3",
   "version": "3.11.5"
  }
 },
 "nbformat": 4,
 "nbformat_minor": 5
}
