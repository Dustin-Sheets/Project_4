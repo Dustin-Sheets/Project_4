{
 "cells": [
  {
   "cell_type": "code",
   "execution_count": 1,
   "id": "3a134ad6",
   "metadata": {},
   "outputs": [
    {
     "name": "stderr",
     "output_type": "stream",
     "text": [
      "2023-12-13 03:46:14.299552: I tensorflow/core/util/port.cc:113] oneDNN custom operations are on. You may see slightly different numerical results due to floating-point round-off errors from different computation orders. To turn them off, set the environment variable `TF_ENABLE_ONEDNN_OPTS=0`.\n",
      "2023-12-13 03:46:14.327891: E external/local_xla/xla/stream_executor/cuda/cuda_dnn.cc:9261] Unable to register cuDNN factory: Attempting to register factory for plugin cuDNN when one has already been registered\n",
      "2023-12-13 03:46:14.327916: E external/local_xla/xla/stream_executor/cuda/cuda_fft.cc:607] Unable to register cuFFT factory: Attempting to register factory for plugin cuFFT when one has already been registered\n",
      "2023-12-13 03:46:14.329025: E external/local_xla/xla/stream_executor/cuda/cuda_blas.cc:1515] Unable to register cuBLAS factory: Attempting to register factory for plugin cuBLAS when one has already been registered\n",
      "2023-12-13 03:46:14.334346: I tensorflow/core/platform/cpu_feature_guard.cc:182] This TensorFlow binary is optimized to use available CPU instructions in performance-critical operations.\n",
      "To enable the following instructions: AVX2 AVX_VNNI FMA, in other operations, rebuild TensorFlow with the appropriate compiler flags.\n",
      "2023-12-13 03:46:15.132147: W tensorflow/compiler/tf2tensorrt/utils/py_utils.cc:38] TF-TRT Warning: Could not find TensorRT\n"
     ]
    },
    {
     "data": {
      "text/html": [
       "<div>\n",
       "<style scoped>\n",
       "    .dataframe tbody tr th:only-of-type {\n",
       "        vertical-align: middle;\n",
       "    }\n",
       "\n",
       "    .dataframe tbody tr th {\n",
       "        vertical-align: top;\n",
       "    }\n",
       "\n",
       "    .dataframe thead th {\n",
       "        text-align: right;\n",
       "    }\n",
       "</style>\n",
       "<table border=\"1\" class=\"dataframe\">\n",
       "  <thead>\n",
       "    <tr style=\"text-align: right;\">\n",
       "      <th></th>\n",
       "      <th>HeartDiseaseorAttack</th>\n",
       "      <th>HighBP</th>\n",
       "      <th>HighChol</th>\n",
       "      <th>CholCheck</th>\n",
       "      <th>BMI</th>\n",
       "      <th>Smoker</th>\n",
       "      <th>Stroke</th>\n",
       "      <th>Diabetes</th>\n",
       "      <th>PhysActivity</th>\n",
       "      <th>Fruits</th>\n",
       "      <th>...</th>\n",
       "      <th>AnyHealthcare</th>\n",
       "      <th>NoDocbcCost</th>\n",
       "      <th>GenHlth</th>\n",
       "      <th>MentHlth</th>\n",
       "      <th>PhysHlth</th>\n",
       "      <th>DiffWalk</th>\n",
       "      <th>Sex</th>\n",
       "      <th>Age</th>\n",
       "      <th>Education</th>\n",
       "      <th>Income</th>\n",
       "    </tr>\n",
       "  </thead>\n",
       "  <tbody>\n",
       "    <tr>\n",
       "      <th>0</th>\n",
       "      <td>0.0</td>\n",
       "      <td>1.0</td>\n",
       "      <td>1.0</td>\n",
       "      <td>1.0</td>\n",
       "      <td>40.0</td>\n",
       "      <td>1.0</td>\n",
       "      <td>0.0</td>\n",
       "      <td>0.0</td>\n",
       "      <td>0.0</td>\n",
       "      <td>0.0</td>\n",
       "      <td>...</td>\n",
       "      <td>1.0</td>\n",
       "      <td>0.0</td>\n",
       "      <td>5.0</td>\n",
       "      <td>18.0</td>\n",
       "      <td>15.0</td>\n",
       "      <td>1.0</td>\n",
       "      <td>0.0</td>\n",
       "      <td>9.0</td>\n",
       "      <td>4.0</td>\n",
       "      <td>3.0</td>\n",
       "    </tr>\n",
       "    <tr>\n",
       "      <th>1</th>\n",
       "      <td>0.0</td>\n",
       "      <td>0.0</td>\n",
       "      <td>0.0</td>\n",
       "      <td>0.0</td>\n",
       "      <td>25.0</td>\n",
       "      <td>1.0</td>\n",
       "      <td>0.0</td>\n",
       "      <td>0.0</td>\n",
       "      <td>1.0</td>\n",
       "      <td>0.0</td>\n",
       "      <td>...</td>\n",
       "      <td>0.0</td>\n",
       "      <td>1.0</td>\n",
       "      <td>3.0</td>\n",
       "      <td>0.0</td>\n",
       "      <td>0.0</td>\n",
       "      <td>0.0</td>\n",
       "      <td>0.0</td>\n",
       "      <td>7.0</td>\n",
       "      <td>6.0</td>\n",
       "      <td>1.0</td>\n",
       "    </tr>\n",
       "    <tr>\n",
       "      <th>2</th>\n",
       "      <td>0.0</td>\n",
       "      <td>1.0</td>\n",
       "      <td>1.0</td>\n",
       "      <td>1.0</td>\n",
       "      <td>28.0</td>\n",
       "      <td>0.0</td>\n",
       "      <td>0.0</td>\n",
       "      <td>0.0</td>\n",
       "      <td>0.0</td>\n",
       "      <td>1.0</td>\n",
       "      <td>...</td>\n",
       "      <td>1.0</td>\n",
       "      <td>1.0</td>\n",
       "      <td>5.0</td>\n",
       "      <td>30.0</td>\n",
       "      <td>30.0</td>\n",
       "      <td>1.0</td>\n",
       "      <td>0.0</td>\n",
       "      <td>9.0</td>\n",
       "      <td>4.0</td>\n",
       "      <td>8.0</td>\n",
       "    </tr>\n",
       "    <tr>\n",
       "      <th>3</th>\n",
       "      <td>0.0</td>\n",
       "      <td>1.0</td>\n",
       "      <td>0.0</td>\n",
       "      <td>1.0</td>\n",
       "      <td>27.0</td>\n",
       "      <td>0.0</td>\n",
       "      <td>0.0</td>\n",
       "      <td>0.0</td>\n",
       "      <td>1.0</td>\n",
       "      <td>1.0</td>\n",
       "      <td>...</td>\n",
       "      <td>1.0</td>\n",
       "      <td>0.0</td>\n",
       "      <td>2.0</td>\n",
       "      <td>0.0</td>\n",
       "      <td>0.0</td>\n",
       "      <td>0.0</td>\n",
       "      <td>0.0</td>\n",
       "      <td>11.0</td>\n",
       "      <td>3.0</td>\n",
       "      <td>6.0</td>\n",
       "    </tr>\n",
       "    <tr>\n",
       "      <th>4</th>\n",
       "      <td>0.0</td>\n",
       "      <td>1.0</td>\n",
       "      <td>1.0</td>\n",
       "      <td>1.0</td>\n",
       "      <td>24.0</td>\n",
       "      <td>0.0</td>\n",
       "      <td>0.0</td>\n",
       "      <td>0.0</td>\n",
       "      <td>1.0</td>\n",
       "      <td>1.0</td>\n",
       "      <td>...</td>\n",
       "      <td>1.0</td>\n",
       "      <td>0.0</td>\n",
       "      <td>2.0</td>\n",
       "      <td>3.0</td>\n",
       "      <td>0.0</td>\n",
       "      <td>0.0</td>\n",
       "      <td>0.0</td>\n",
       "      <td>11.0</td>\n",
       "      <td>5.0</td>\n",
       "      <td>4.0</td>\n",
       "    </tr>\n",
       "  </tbody>\n",
       "</table>\n",
       "<p>5 rows × 22 columns</p>\n",
       "</div>"
      ],
      "text/plain": [
       "   HeartDiseaseorAttack  HighBP  HighChol  CholCheck   BMI  Smoker  Stroke  \\\n",
       "0                   0.0     1.0       1.0        1.0  40.0     1.0     0.0   \n",
       "1                   0.0     0.0       0.0        0.0  25.0     1.0     0.0   \n",
       "2                   0.0     1.0       1.0        1.0  28.0     0.0     0.0   \n",
       "3                   0.0     1.0       0.0        1.0  27.0     0.0     0.0   \n",
       "4                   0.0     1.0       1.0        1.0  24.0     0.0     0.0   \n",
       "\n",
       "   Diabetes  PhysActivity  Fruits  ...  AnyHealthcare  NoDocbcCost  GenHlth  \\\n",
       "0       0.0           0.0     0.0  ...            1.0          0.0      5.0   \n",
       "1       0.0           1.0     0.0  ...            0.0          1.0      3.0   \n",
       "2       0.0           0.0     1.0  ...            1.0          1.0      5.0   \n",
       "3       0.0           1.0     1.0  ...            1.0          0.0      2.0   \n",
       "4       0.0           1.0     1.0  ...            1.0          0.0      2.0   \n",
       "\n",
       "   MentHlth  PhysHlth  DiffWalk  Sex   Age  Education  Income  \n",
       "0      18.0      15.0       1.0  0.0   9.0        4.0     3.0  \n",
       "1       0.0       0.0       0.0  0.0   7.0        6.0     1.0  \n",
       "2      30.0      30.0       1.0  0.0   9.0        4.0     8.0  \n",
       "3       0.0       0.0       0.0  0.0  11.0        3.0     6.0  \n",
       "4       3.0       0.0       0.0  0.0  11.0        5.0     4.0  \n",
       "\n",
       "[5 rows x 22 columns]"
      ]
     },
     "execution_count": 1,
     "metadata": {},
     "output_type": "execute_result"
    }
   ],
   "source": [
    "import pandas as pd\n",
    "import numpy as np\n",
    "import matplotlib.pyplot as plt\n",
    "import seaborn as sns\n",
    "import tensorflow as tf\n",
    "from tensorflow import keras\n",
    "import joblib\n",
    "\n",
    "\n",
    "from sklearn.metrics import confusion_matrix, precision_score, recall_score, f1_score, roc_auc_score, accuracy_score\n",
    "from sklearn.model_selection import train_test_split\n",
    "from sklearn.preprocessing import StandardScaler\n",
    "from sklearn.utils import class_weight\n",
    "\n",
    "\n",
    "from keras.layers import Activation, Dense, Dropout\n",
    "\n",
    "\n",
    "\n",
    "\n",
    "\n",
    "\n",
    "\n",
    "from tensorflow.keras.models import Sequential\n",
    "\n",
    "\n",
    "\n",
    "\n",
    "\n",
    "\n",
    "\n",
    "\n",
    "df = pd.read_csv(\"heart_disease_health_indicators_BRFSS2015.csv\")\n",
    "df.head()"
   ]
  },
  {
   "cell_type": "code",
   "execution_count": 2,
   "id": "cd80faf5",
   "metadata": {},
   "outputs": [
    {
     "name": "stdout",
     "output_type": "stream",
     "text": [
      "<class 'pandas.core.frame.DataFrame'>\n",
      "RangeIndex: 253680 entries, 0 to 253679\n",
      "Data columns (total 22 columns):\n",
      " #   Column                Non-Null Count   Dtype  \n",
      "---  ------                --------------   -----  \n",
      " 0   HeartDiseaseorAttack  253680 non-null  float64\n",
      " 1   HighBP                253680 non-null  float64\n",
      " 2   HighChol              253680 non-null  float64\n",
      " 3   CholCheck             253680 non-null  float64\n",
      " 4   BMI                   253680 non-null  float64\n",
      " 5   Smoker                253680 non-null  float64\n",
      " 6   Stroke                253680 non-null  float64\n",
      " 7   Diabetes              253680 non-null  float64\n",
      " 8   PhysActivity          253680 non-null  float64\n",
      " 9   Fruits                253680 non-null  float64\n",
      " 10  Veggies               253680 non-null  float64\n",
      " 11  HvyAlcoholConsump     253680 non-null  float64\n",
      " 12  AnyHealthcare         253680 non-null  float64\n",
      " 13  NoDocbcCost           253680 non-null  float64\n",
      " 14  GenHlth               253680 non-null  float64\n",
      " 15  MentHlth              253680 non-null  float64\n",
      " 16  PhysHlth              253680 non-null  float64\n",
      " 17  DiffWalk              253680 non-null  float64\n",
      " 18  Sex                   253680 non-null  float64\n",
      " 19  Age                   253680 non-null  float64\n",
      " 20  Education             253680 non-null  float64\n",
      " 21  Income                253680 non-null  float64\n",
      "dtypes: float64(22)\n",
      "memory usage: 42.6 MB\n"
     ]
    }
   ],
   "source": [
    "df.info()"
   ]
  },
  {
   "cell_type": "code",
   "execution_count": 3,
   "id": "7bdf3fe8",
   "metadata": {},
   "outputs": [
    {
     "data": {
      "text/plain": [
       "Index(['HeartDiseaseorAttack', 'HighBP', 'HighChol', 'CholCheck', 'BMI',\n",
       "       'Smoker', 'Stroke', 'Diabetes', 'PhysActivity', 'Fruits', 'Veggies',\n",
       "       'HvyAlcoholConsump', 'AnyHealthcare', 'NoDocbcCost', 'DiffWalk', 'Sex',\n",
       "       'Age'],\n",
       "      dtype='object')"
      ]
     },
     "execution_count": 3,
     "metadata": {},
     "output_type": "execute_result"
    }
   ],
   "source": [
    "df = df.drop(columns = ['GenHlth', 'MentHlth','PhysHlth','Income','Education'])\n",
    "df.columns"
   ]
  },
  {
   "cell_type": "code",
   "execution_count": 4,
   "id": "533757ad",
   "metadata": {},
   "outputs": [
    {
     "name": "stdout",
     "output_type": "stream",
     "text": [
      "<class 'pandas.core.frame.DataFrame'>\n",
      "RangeIndex: 253680 entries, 0 to 253679\n",
      "Data columns (total 17 columns):\n",
      " #   Column                Non-Null Count   Dtype  \n",
      "---  ------                --------------   -----  \n",
      " 0   HeartDiseaseorAttack  253680 non-null  float64\n",
      " 1   HighBP                253680 non-null  float64\n",
      " 2   HighChol              253680 non-null  float64\n",
      " 3   CholCheck             253680 non-null  float64\n",
      " 4   BMI                   253680 non-null  float64\n",
      " 5   Smoker                253680 non-null  float64\n",
      " 6   Stroke                253680 non-null  float64\n",
      " 7   Diabetes              253680 non-null  float64\n",
      " 8   PhysActivity          253680 non-null  float64\n",
      " 9   Fruits                253680 non-null  float64\n",
      " 10  Veggies               253680 non-null  float64\n",
      " 11  HvyAlcoholConsump     253680 non-null  float64\n",
      " 12  AnyHealthcare         253680 non-null  float64\n",
      " 13  NoDocbcCost           253680 non-null  float64\n",
      " 14  DiffWalk              253680 non-null  float64\n",
      " 15  Sex                   253680 non-null  float64\n",
      " 16  Age                   253680 non-null  float64\n",
      "dtypes: float64(17)\n",
      "memory usage: 32.9 MB\n"
     ]
    }
   ],
   "source": [
    "\n",
    "df.info()"
   ]
  },
  {
   "cell_type": "code",
   "execution_count": 5,
   "id": "3cd5cd66",
   "metadata": {},
   "outputs": [
    {
     "data": {
      "text/plain": [
       "HeartDiseaseorAttack\n",
       "0.0    229787\n",
       "1.0     23893\n",
       "Name: count, dtype: int64"
      ]
     },
     "execution_count": 5,
     "metadata": {},
     "output_type": "execute_result"
    }
   ],
   "source": [
    "df['HeartDiseaseorAttack'].value_counts()"
   ]
  },
  {
   "cell_type": "code",
   "execution_count": 6,
   "id": "f11b482c",
   "metadata": {},
   "outputs": [],
   "source": [
    "y = df['HeartDiseaseorAttack'].values\n",
    "X = df.drop(columns='HeartDiseaseorAttack', axis=1).values"
   ]
  },
  {
   "cell_type": "code",
   "execution_count": 7,
   "id": "cde42c93",
   "metadata": {},
   "outputs": [],
   "source": [
    "X_train, X_test, y_train, y_test = train_test_split(X, y, test_size=0.2, random_state=42)"
   ]
  },
  {
   "cell_type": "code",
   "execution_count": 8,
   "id": "eb622902",
   "metadata": {},
   "outputs": [],
   "source": [
    "scaler = StandardScaler()\n",
    "\n",
    "X_scaler = scaler.fit(X_train)\n",
    "\n",
    "X_train_scaled = X_scaler.transform(X_train)\n",
    "X_test_scaled = X_scaler.transform(X_test)"
   ]
  },
  {
   "cell_type": "code",
   "execution_count": 68,
   "id": "18895499",
   "metadata": {},
   "outputs": [
    {
     "data": {
      "text/plain": [
       "['./Models/scaler_model.save']"
      ]
     },
     "execution_count": 68,
     "metadata": {},
     "output_type": "execute_result"
    }
   ],
   "source": [
    "# Saving Scaler to be use in flask app  \n",
    "\n",
    "joblib.dump(scaler, \"./Models/scaler_model.save\")\n"
   ]
  },
  {
   "cell_type": "code",
   "execution_count": 9,
   "id": "2267e088",
   "metadata": {},
   "outputs": [],
   "source": [
    "\n",
    "# Calculate class weights which could be used in training\n",
    "class_weights = class_weight.compute_class_weight('balanced', classes=np.unique(y_train), y=y_train)\n",
    "class_weights = dict(enumerate(class_weights))"
   ]
  },
  {
   "cell_type": "code",
   "execution_count": 10,
   "id": "df174934",
   "metadata": {},
   "outputs": [
    {
     "name": "stdout",
     "output_type": "stream",
     "text": [
      "Model: \"sequential\"\n",
      "_________________________________________________________________\n",
      " Layer (type)                Output Shape              Param #   \n",
      "=================================================================\n",
      " dense (Dense)               (None, 128)               2176      \n",
      "                                                                 \n",
      " dropout (Dropout)           (None, 128)               0         \n",
      "                                                                 \n",
      " dense_1 (Dense)             (None, 64)                8256      \n",
      "                                                                 \n",
      " dropout_1 (Dropout)         (None, 64)                0         \n",
      "                                                                 \n",
      " dense_2 (Dense)             (None, 32)                2080      \n",
      "                                                                 \n",
      " dropout_2 (Dropout)         (None, 32)                0         \n",
      "                                                                 \n",
      " dense_3 (Dense)             (None, 1)                 33        \n",
      "                                                                 \n",
      "=================================================================\n",
      "Total params: 12545 (49.00 KB)\n",
      "Trainable params: 12545 (49.00 KB)\n",
      "Non-trainable params: 0 (0.00 Byte)\n",
      "_________________________________________________________________\n"
     ]
    },
    {
     "name": "stderr",
     "output_type": "stream",
     "text": [
      "2023-12-13 03:47:22.131057: I external/local_xla/xla/stream_executor/cuda/cuda_executor.cc:901] successful NUMA node read from SysFS had negative value (-1), but there must be at least one NUMA node, so returning NUMA node zero. See more at https://github.com/torvalds/linux/blob/v6.0/Documentation/ABI/testing/sysfs-bus-pci#L344-L355\n",
      "2023-12-13 03:47:22.153187: I external/local_xla/xla/stream_executor/cuda/cuda_executor.cc:901] successful NUMA node read from SysFS had negative value (-1), but there must be at least one NUMA node, so returning NUMA node zero. See more at https://github.com/torvalds/linux/blob/v6.0/Documentation/ABI/testing/sysfs-bus-pci#L344-L355\n",
      "2023-12-13 03:47:22.153603: I external/local_xla/xla/stream_executor/cuda/cuda_executor.cc:901] successful NUMA node read from SysFS had negative value (-1), but there must be at least one NUMA node, so returning NUMA node zero. See more at https://github.com/torvalds/linux/blob/v6.0/Documentation/ABI/testing/sysfs-bus-pci#L344-L355\n",
      "2023-12-13 03:47:22.155474: I external/local_xla/xla/stream_executor/cuda/cuda_executor.cc:901] successful NUMA node read from SysFS had negative value (-1), but there must be at least one NUMA node, so returning NUMA node zero. See more at https://github.com/torvalds/linux/blob/v6.0/Documentation/ABI/testing/sysfs-bus-pci#L344-L355\n",
      "2023-12-13 03:47:22.155634: I external/local_xla/xla/stream_executor/cuda/cuda_executor.cc:901] successful NUMA node read from SysFS had negative value (-1), but there must be at least one NUMA node, so returning NUMA node zero. See more at https://github.com/torvalds/linux/blob/v6.0/Documentation/ABI/testing/sysfs-bus-pci#L344-L355\n",
      "2023-12-13 03:47:22.155697: I external/local_xla/xla/stream_executor/cuda/cuda_executor.cc:901] successful NUMA node read from SysFS had negative value (-1), but there must be at least one NUMA node, so returning NUMA node zero. See more at https://github.com/torvalds/linux/blob/v6.0/Documentation/ABI/testing/sysfs-bus-pci#L344-L355\n",
      "2023-12-13 03:47:22.220676: I external/local_xla/xla/stream_executor/cuda/cuda_executor.cc:901] successful NUMA node read from SysFS had negative value (-1), but there must be at least one NUMA node, so returning NUMA node zero. See more at https://github.com/torvalds/linux/blob/v6.0/Documentation/ABI/testing/sysfs-bus-pci#L344-L355\n",
      "2023-12-13 03:47:22.220791: I external/local_xla/xla/stream_executor/cuda/cuda_executor.cc:901] successful NUMA node read from SysFS had negative value (-1), but there must be at least one NUMA node, so returning NUMA node zero. See more at https://github.com/torvalds/linux/blob/v6.0/Documentation/ABI/testing/sysfs-bus-pci#L344-L355\n",
      "2023-12-13 03:47:22.220858: I external/local_xla/xla/stream_executor/cuda/cuda_executor.cc:901] successful NUMA node read from SysFS had negative value (-1), but there must be at least one NUMA node, so returning NUMA node zero. See more at https://github.com/torvalds/linux/blob/v6.0/Documentation/ABI/testing/sysfs-bus-pci#L344-L355\n",
      "2023-12-13 03:47:22.220913: I tensorflow/core/common_runtime/gpu/gpu_device.cc:1929] Created device /job:localhost/replica:0/task:0/device:GPU:0 with 34 MB memory:  -> device: 0, name: NVIDIA GeForce RTX 3080 Ti Laptop GPU, pci bus id: 0000:01:00.0, compute capability: 8.6\n",
      "2023-12-13 03:47:22.231239: I external/local_xla/xla/stream_executor/cuda/cuda_driver.cc:1101] failed to allocate 34.19MiB (35848192 bytes) from device: CUDA_ERROR_OUT_OF_MEMORY: out of memory\n",
      "2023-12-13 03:47:22.231293: I external/local_xla/xla/stream_executor/cuda/cuda_driver.cc:1101] failed to allocate 30.77MiB (32263424 bytes) from device: CUDA_ERROR_OUT_OF_MEMORY: out of memory\n"
     ]
    }
   ],
   "source": [
    "nn = tf.keras.models.Sequential()\n",
    "\n",
    "# First hidden layer\n",
    "nn.add(Dense(units=128, activation = \"relu\", input_dim= len(X_train[0])))\n",
    "nn.add(Dropout(0.5))\n",
    "\n",
    "# Second hidden layer\n",
    "nn.add(Dense(units=64, activation = \"relu\"))\n",
    "nn.add(Dropout(0.5))\n",
    "# Third hidden layer\n",
    "nn.add(Dense(32, activation=\"relu\"))\n",
    "nn.add(Dropout(0.5))\n",
    "\n",
    "\n",
    "# Output layer\n",
    "nn.add(tf.keras.layers.Dense(units=1, activation=\"sigmoid\"))\n",
    "\n",
    "nn.summary()"
   ]
  },
  {
   "cell_type": "code",
   "execution_count": 11,
   "id": "4c2bcce1",
   "metadata": {},
   "outputs": [],
   "source": [
    "nn.compile(loss=\"binary_crossentropy\", optimizer= \"adam\", metrics= [\"accuracy\"])"
   ]
  },
  {
   "cell_type": "code",
   "execution_count": 12,
   "id": "1a649a1a",
   "metadata": {},
   "outputs": [],
   "source": [
    "# Implementing early stopping\n",
    "early_stopping = tf.keras.callbacks.EarlyStopping(monitor='val_loss', patience=10, restore_best_weights=True)"
   ]
  },
  {
   "cell_type": "code",
   "execution_count": 13,
   "id": "a002ca32",
   "metadata": {},
   "outputs": [
    {
     "name": "stdout",
     "output_type": "stream",
     "text": [
      "Epoch 1/100\n"
     ]
    },
    {
     "name": "stderr",
     "output_type": "stream",
     "text": [
      "2023-12-13 03:48:09.973911: E external/local_xla/xla/stream_executor/cuda/cuda_blas.cc:185] failed to create cublas handle: the resource allocation failed\n",
      "2023-12-13 03:48:09.973934: E external/local_xla/xla/stream_executor/cuda/cuda_blas.cc:188] Failure to initialize cublas may be due to OOM (cublas needs some free memory when you initialize it, and your deep-learning framework may have preallocated more than its fair share), or may be because this binary was not built with support for the GPU in your machine.\n",
      "2023-12-13 03:48:09.973949: W tensorflow/core/framework/op_kernel.cc:1839] OP_REQUIRES failed at matmul_op_impl.h:817 : INTERNAL: Attempting to perform BLAS operation using StreamExecutor without BLAS support\n",
      "2023-12-13 03:48:09.973968: I tensorflow/core/framework/local_rendezvous.cc:425] Local rendezvous send item cancelled. Key hash: 8428643618001769499\n"
     ]
    },
    {
     "ename": "InternalError",
     "evalue": "Graph execution error:\n\nDetected at node sequential/dense/MatMul defined at (most recent call last):\n  File \"<frozen runpy>\", line 198, in _run_module_as_main\n\n  File \"<frozen runpy>\", line 88, in _run_code\n\n  File \"/home/arnold/anaconda3/envs/ml/lib/python3.11/site-packages/ipykernel_launcher.py\", line 17, in <module>\n\n  File \"/home/arnold/anaconda3/envs/ml/lib/python3.11/site-packages/traitlets/config/application.py\", line 992, in launch_instance\n\n  File \"/home/arnold/anaconda3/envs/ml/lib/python3.11/site-packages/ipykernel/kernelapp.py\", line 736, in start\n\n  File \"/home/arnold/anaconda3/envs/ml/lib/python3.11/site-packages/tornado/platform/asyncio.py\", line 195, in start\n\n  File \"/home/arnold/anaconda3/envs/ml/lib/python3.11/asyncio/base_events.py\", line 607, in run_forever\n\n  File \"/home/arnold/anaconda3/envs/ml/lib/python3.11/asyncio/base_events.py\", line 1922, in _run_once\n\n  File \"/home/arnold/anaconda3/envs/ml/lib/python3.11/asyncio/events.py\", line 80, in _run\n\n  File \"/home/arnold/anaconda3/envs/ml/lib/python3.11/site-packages/ipykernel/kernelbase.py\", line 516, in dispatch_queue\n\n  File \"/home/arnold/anaconda3/envs/ml/lib/python3.11/site-packages/ipykernel/kernelbase.py\", line 505, in process_one\n\n  File \"/home/arnold/anaconda3/envs/ml/lib/python3.11/site-packages/ipykernel/kernelbase.py\", line 412, in dispatch_shell\n\n  File \"/home/arnold/anaconda3/envs/ml/lib/python3.11/site-packages/ipykernel/kernelbase.py\", line 740, in execute_request\n\n  File \"/home/arnold/anaconda3/envs/ml/lib/python3.11/site-packages/ipykernel/ipkernel.py\", line 422, in do_execute\n\n  File \"/home/arnold/anaconda3/envs/ml/lib/python3.11/site-packages/ipykernel/zmqshell.py\", line 546, in run_cell\n\n  File \"/home/arnold/anaconda3/envs/ml/lib/python3.11/site-packages/IPython/core/interactiveshell.py\", line 3024, in run_cell\n\n  File \"/home/arnold/anaconda3/envs/ml/lib/python3.11/site-packages/IPython/core/interactiveshell.py\", line 3079, in _run_cell\n\n  File \"/home/arnold/anaconda3/envs/ml/lib/python3.11/site-packages/IPython/core/async_helpers.py\", line 129, in _pseudo_sync_runner\n\n  File \"/home/arnold/anaconda3/envs/ml/lib/python3.11/site-packages/IPython/core/interactiveshell.py\", line 3284, in run_cell_async\n\n  File \"/home/arnold/anaconda3/envs/ml/lib/python3.11/site-packages/IPython/core/interactiveshell.py\", line 3466, in run_ast_nodes\n\n  File \"/home/arnold/anaconda3/envs/ml/lib/python3.11/site-packages/IPython/core/interactiveshell.py\", line 3526, in run_code\n\n  File \"/tmp/ipykernel_1858914/708015744.py\", line 1, in <module>\n\n  File \"/home/arnold/anaconda3/envs/ml/lib/python3.11/site-packages/keras/src/utils/traceback_utils.py\", line 65, in error_handler\n\n  File \"/home/arnold/anaconda3/envs/ml/lib/python3.11/site-packages/keras/src/engine/training.py\", line 1807, in fit\n\n  File \"/home/arnold/anaconda3/envs/ml/lib/python3.11/site-packages/keras/src/engine/training.py\", line 1401, in train_function\n\n  File \"/home/arnold/anaconda3/envs/ml/lib/python3.11/site-packages/keras/src/engine/training.py\", line 1384, in step_function\n\n  File \"/home/arnold/anaconda3/envs/ml/lib/python3.11/site-packages/keras/src/engine/training.py\", line 1373, in run_step\n\n  File \"/home/arnold/anaconda3/envs/ml/lib/python3.11/site-packages/keras/src/engine/training.py\", line 1150, in train_step\n\n  File \"/home/arnold/anaconda3/envs/ml/lib/python3.11/site-packages/keras/src/utils/traceback_utils.py\", line 65, in error_handler\n\n  File \"/home/arnold/anaconda3/envs/ml/lib/python3.11/site-packages/keras/src/engine/training.py\", line 590, in __call__\n\n  File \"/home/arnold/anaconda3/envs/ml/lib/python3.11/site-packages/keras/src/utils/traceback_utils.py\", line 65, in error_handler\n\n  File \"/home/arnold/anaconda3/envs/ml/lib/python3.11/site-packages/keras/src/engine/base_layer.py\", line 1149, in __call__\n\n  File \"/home/arnold/anaconda3/envs/ml/lib/python3.11/site-packages/keras/src/utils/traceback_utils.py\", line 96, in error_handler\n\n  File \"/home/arnold/anaconda3/envs/ml/lib/python3.11/site-packages/keras/src/engine/sequential.py\", line 398, in call\n\n  File \"/home/arnold/anaconda3/envs/ml/lib/python3.11/site-packages/keras/src/engine/functional.py\", line 515, in call\n\n  File \"/home/arnold/anaconda3/envs/ml/lib/python3.11/site-packages/keras/src/engine/functional.py\", line 672, in _run_internal_graph\n\n  File \"/home/arnold/anaconda3/envs/ml/lib/python3.11/site-packages/keras/src/utils/traceback_utils.py\", line 65, in error_handler\n\n  File \"/home/arnold/anaconda3/envs/ml/lib/python3.11/site-packages/keras/src/engine/base_layer.py\", line 1149, in __call__\n\n  File \"/home/arnold/anaconda3/envs/ml/lib/python3.11/site-packages/keras/src/utils/traceback_utils.py\", line 96, in error_handler\n\n  File \"/home/arnold/anaconda3/envs/ml/lib/python3.11/site-packages/keras/src/layers/core/dense.py\", line 241, in call\n\nAttempting to perform BLAS operation using StreamExecutor without BLAS support\n\t [[{{node sequential/dense/MatMul}}]] [Op:__inference_train_function_1375]",
     "output_type": "error",
     "traceback": [
      "\u001b[0;31m---------------------------------------------------------------------------\u001b[0m",
      "\u001b[0;31mInternalError\u001b[0m                             Traceback (most recent call last)",
      "Cell \u001b[0;32mIn[13], line 1\u001b[0m\n\u001b[0;32m----> 1\u001b[0m nn_fitted \u001b[38;5;241m=\u001b[39m nn\u001b[38;5;241m.\u001b[39mfit(X_train_scaled, y_train, epochs\u001b[38;5;241m=\u001b[39m\u001b[38;5;241m100\u001b[39m, batch_size\u001b[38;5;241m=\u001b[39m\u001b[38;5;241m40\u001b[39m, class_weight\u001b[38;5;241m=\u001b[39mclass_weights, validation_split\u001b[38;5;241m=\u001b[39m\u001b[38;5;241m0.1\u001b[39m, callbacks\u001b[38;5;241m=\u001b[39m[early_stopping])\n",
      "File \u001b[0;32m~/anaconda3/envs/ml/lib/python3.11/site-packages/keras/src/utils/traceback_utils.py:70\u001b[0m, in \u001b[0;36mfilter_traceback.<locals>.error_handler\u001b[0;34m(*args, **kwargs)\u001b[0m\n\u001b[1;32m     67\u001b[0m     filtered_tb \u001b[38;5;241m=\u001b[39m _process_traceback_frames(e\u001b[38;5;241m.\u001b[39m__traceback__)\n\u001b[1;32m     68\u001b[0m     \u001b[38;5;66;03m# To get the full stack trace, call:\u001b[39;00m\n\u001b[1;32m     69\u001b[0m     \u001b[38;5;66;03m# `tf.debugging.disable_traceback_filtering()`\u001b[39;00m\n\u001b[0;32m---> 70\u001b[0m     \u001b[38;5;28;01mraise\u001b[39;00m e\u001b[38;5;241m.\u001b[39mwith_traceback(filtered_tb) \u001b[38;5;28;01mfrom\u001b[39;00m \u001b[38;5;28;01mNone\u001b[39;00m\n\u001b[1;32m     71\u001b[0m \u001b[38;5;28;01mfinally\u001b[39;00m:\n\u001b[1;32m     72\u001b[0m     \u001b[38;5;28;01mdel\u001b[39;00m filtered_tb\n",
      "File \u001b[0;32m~/anaconda3/envs/ml/lib/python3.11/site-packages/tensorflow/python/eager/execute.py:53\u001b[0m, in \u001b[0;36mquick_execute\u001b[0;34m(op_name, num_outputs, inputs, attrs, ctx, name)\u001b[0m\n\u001b[1;32m     51\u001b[0m \u001b[38;5;28;01mtry\u001b[39;00m:\n\u001b[1;32m     52\u001b[0m   ctx\u001b[38;5;241m.\u001b[39mensure_initialized()\n\u001b[0;32m---> 53\u001b[0m   tensors \u001b[38;5;241m=\u001b[39m pywrap_tfe\u001b[38;5;241m.\u001b[39mTFE_Py_Execute(ctx\u001b[38;5;241m.\u001b[39m_handle, device_name, op_name,\n\u001b[1;32m     54\u001b[0m                                       inputs, attrs, num_outputs)\n\u001b[1;32m     55\u001b[0m \u001b[38;5;28;01mexcept\u001b[39;00m core\u001b[38;5;241m.\u001b[39m_NotOkStatusException \u001b[38;5;28;01mas\u001b[39;00m e:\n\u001b[1;32m     56\u001b[0m   \u001b[38;5;28;01mif\u001b[39;00m name \u001b[38;5;129;01mis\u001b[39;00m \u001b[38;5;129;01mnot\u001b[39;00m \u001b[38;5;28;01mNone\u001b[39;00m:\n",
      "\u001b[0;31mInternalError\u001b[0m: Graph execution error:\n\nDetected at node sequential/dense/MatMul defined at (most recent call last):\n  File \"<frozen runpy>\", line 198, in _run_module_as_main\n\n  File \"<frozen runpy>\", line 88, in _run_code\n\n  File \"/home/arnold/anaconda3/envs/ml/lib/python3.11/site-packages/ipykernel_launcher.py\", line 17, in <module>\n\n  File \"/home/arnold/anaconda3/envs/ml/lib/python3.11/site-packages/traitlets/config/application.py\", line 992, in launch_instance\n\n  File \"/home/arnold/anaconda3/envs/ml/lib/python3.11/site-packages/ipykernel/kernelapp.py\", line 736, in start\n\n  File \"/home/arnold/anaconda3/envs/ml/lib/python3.11/site-packages/tornado/platform/asyncio.py\", line 195, in start\n\n  File \"/home/arnold/anaconda3/envs/ml/lib/python3.11/asyncio/base_events.py\", line 607, in run_forever\n\n  File \"/home/arnold/anaconda3/envs/ml/lib/python3.11/asyncio/base_events.py\", line 1922, in _run_once\n\n  File \"/home/arnold/anaconda3/envs/ml/lib/python3.11/asyncio/events.py\", line 80, in _run\n\n  File \"/home/arnold/anaconda3/envs/ml/lib/python3.11/site-packages/ipykernel/kernelbase.py\", line 516, in dispatch_queue\n\n  File \"/home/arnold/anaconda3/envs/ml/lib/python3.11/site-packages/ipykernel/kernelbase.py\", line 505, in process_one\n\n  File \"/home/arnold/anaconda3/envs/ml/lib/python3.11/site-packages/ipykernel/kernelbase.py\", line 412, in dispatch_shell\n\n  File \"/home/arnold/anaconda3/envs/ml/lib/python3.11/site-packages/ipykernel/kernelbase.py\", line 740, in execute_request\n\n  File \"/home/arnold/anaconda3/envs/ml/lib/python3.11/site-packages/ipykernel/ipkernel.py\", line 422, in do_execute\n\n  File \"/home/arnold/anaconda3/envs/ml/lib/python3.11/site-packages/ipykernel/zmqshell.py\", line 546, in run_cell\n\n  File \"/home/arnold/anaconda3/envs/ml/lib/python3.11/site-packages/IPython/core/interactiveshell.py\", line 3024, in run_cell\n\n  File \"/home/arnold/anaconda3/envs/ml/lib/python3.11/site-packages/IPython/core/interactiveshell.py\", line 3079, in _run_cell\n\n  File \"/home/arnold/anaconda3/envs/ml/lib/python3.11/site-packages/IPython/core/async_helpers.py\", line 129, in _pseudo_sync_runner\n\n  File \"/home/arnold/anaconda3/envs/ml/lib/python3.11/site-packages/IPython/core/interactiveshell.py\", line 3284, in run_cell_async\n\n  File \"/home/arnold/anaconda3/envs/ml/lib/python3.11/site-packages/IPython/core/interactiveshell.py\", line 3466, in run_ast_nodes\n\n  File \"/home/arnold/anaconda3/envs/ml/lib/python3.11/site-packages/IPython/core/interactiveshell.py\", line 3526, in run_code\n\n  File \"/tmp/ipykernel_1858914/708015744.py\", line 1, in <module>\n\n  File \"/home/arnold/anaconda3/envs/ml/lib/python3.11/site-packages/keras/src/utils/traceback_utils.py\", line 65, in error_handler\n\n  File \"/home/arnold/anaconda3/envs/ml/lib/python3.11/site-packages/keras/src/engine/training.py\", line 1807, in fit\n\n  File \"/home/arnold/anaconda3/envs/ml/lib/python3.11/site-packages/keras/src/engine/training.py\", line 1401, in train_function\n\n  File \"/home/arnold/anaconda3/envs/ml/lib/python3.11/site-packages/keras/src/engine/training.py\", line 1384, in step_function\n\n  File \"/home/arnold/anaconda3/envs/ml/lib/python3.11/site-packages/keras/src/engine/training.py\", line 1373, in run_step\n\n  File \"/home/arnold/anaconda3/envs/ml/lib/python3.11/site-packages/keras/src/engine/training.py\", line 1150, in train_step\n\n  File \"/home/arnold/anaconda3/envs/ml/lib/python3.11/site-packages/keras/src/utils/traceback_utils.py\", line 65, in error_handler\n\n  File \"/home/arnold/anaconda3/envs/ml/lib/python3.11/site-packages/keras/src/engine/training.py\", line 590, in __call__\n\n  File \"/home/arnold/anaconda3/envs/ml/lib/python3.11/site-packages/keras/src/utils/traceback_utils.py\", line 65, in error_handler\n\n  File \"/home/arnold/anaconda3/envs/ml/lib/python3.11/site-packages/keras/src/engine/base_layer.py\", line 1149, in __call__\n\n  File \"/home/arnold/anaconda3/envs/ml/lib/python3.11/site-packages/keras/src/utils/traceback_utils.py\", line 96, in error_handler\n\n  File \"/home/arnold/anaconda3/envs/ml/lib/python3.11/site-packages/keras/src/engine/sequential.py\", line 398, in call\n\n  File \"/home/arnold/anaconda3/envs/ml/lib/python3.11/site-packages/keras/src/engine/functional.py\", line 515, in call\n\n  File \"/home/arnold/anaconda3/envs/ml/lib/python3.11/site-packages/keras/src/engine/functional.py\", line 672, in _run_internal_graph\n\n  File \"/home/arnold/anaconda3/envs/ml/lib/python3.11/site-packages/keras/src/utils/traceback_utils.py\", line 65, in error_handler\n\n  File \"/home/arnold/anaconda3/envs/ml/lib/python3.11/site-packages/keras/src/engine/base_layer.py\", line 1149, in __call__\n\n  File \"/home/arnold/anaconda3/envs/ml/lib/python3.11/site-packages/keras/src/utils/traceback_utils.py\", line 96, in error_handler\n\n  File \"/home/arnold/anaconda3/envs/ml/lib/python3.11/site-packages/keras/src/layers/core/dense.py\", line 241, in call\n\nAttempting to perform BLAS operation using StreamExecutor without BLAS support\n\t [[{{node sequential/dense/MatMul}}]] [Op:__inference_train_function_1375]"
     ]
    }
   ],
   "source": [
    "nn_fitted = nn.fit(X_train_scaled, y_train, epochs=100, batch_size=40, class_weight=class_weights, validation_split=0.1, callbacks=[early_stopping])"
   ]
  },
  {
   "cell_type": "code",
   "execution_count": 25,
   "id": "1ea77a27",
   "metadata": {
    "scrolled": true
   },
   "outputs": [
    {
     "name": "stdout",
     "output_type": "stream",
     "text": [
      "Epoch 1/150\n",
      "6342/6342 [==============================] - 15s 2ms/step - loss: 0.2722 - accuracy: 0.9050\n",
      "Epoch 2/150\n",
      "6342/6342 [==============================] - 16s 3ms/step - loss: 0.2577 - accuracy: 0.9058\n",
      "Epoch 3/150\n",
      "6342/6342 [==============================] - 15s 2ms/step - loss: 0.2562 - accuracy: 0.9054\n",
      "Epoch 4/150\n",
      "6342/6342 [==============================] - 15s 2ms/step - loss: 0.2553 - accuracy: 0.9060\n",
      "Epoch 5/150\n",
      "6342/6342 [==============================] - 15s 2ms/step - loss: 0.2550 - accuracy: 0.9055\n",
      "Epoch 6/150\n",
      "6342/6342 [==============================] - 15s 2ms/step - loss: 0.2555 - accuracy: 0.9058\n",
      "Epoch 7/150\n",
      "6342/6342 [==============================] - 15s 2ms/step - loss: 0.2549 - accuracy: 0.9055\n",
      "Epoch 8/150\n",
      "6342/6342 [==============================] - 16s 2ms/step - loss: 0.2550 - accuracy: 0.9058\n",
      "Epoch 9/150\n",
      "6342/6342 [==============================] - 14s 2ms/step - loss: 0.2549 - accuracy: 0.9059\n",
      "Epoch 10/150\n",
      "6342/6342 [==============================] - 14s 2ms/step - loss: 0.2549 - accuracy: 0.9056\n",
      "Epoch 11/150\n",
      "6342/6342 [==============================] - 15s 2ms/step - loss: 0.2554 - accuracy: 0.9058\n",
      "Epoch 12/150\n",
      "6342/6342 [==============================] - 15s 2ms/step - loss: 0.2544 - accuracy: 0.9059\n",
      "Epoch 13/150\n",
      "6342/6342 [==============================] - 15s 2ms/step - loss: 0.2549 - accuracy: 0.9058\n",
      "Epoch 14/150\n",
      "6342/6342 [==============================] - 14s 2ms/step - loss: 0.2547 - accuracy: 0.9058\n",
      "Epoch 15/150\n",
      "6342/6342 [==============================] - 14s 2ms/step - loss: 0.2549 - accuracy: 0.9059\n",
      "Epoch 16/150\n",
      "6342/6342 [==============================] - 14s 2ms/step - loss: 0.2547 - accuracy: 0.9056\n",
      "Epoch 17/150\n",
      "6342/6342 [==============================] - 13s 2ms/step - loss: 0.2551 - accuracy: 0.9059\n",
      "Epoch 18/150\n",
      "6342/6342 [==============================] - 14s 2ms/step - loss: 0.2550 - accuracy: 0.9057\n",
      "Epoch 19/150\n",
      "6342/6342 [==============================] - 14s 2ms/step - loss: 0.2552 - accuracy: 0.9057\n",
      "Epoch 20/150\n",
      "6342/6342 [==============================] - 14s 2ms/step - loss: 0.2552 - accuracy: 0.9058\n",
      "Epoch 21/150\n",
      "6342/6342 [==============================] - 14s 2ms/step - loss: 0.2549 - accuracy: 0.9057\n",
      "Epoch 22/150\n",
      "6342/6342 [==============================] - 15s 2ms/step - loss: 0.2551 - accuracy: 0.9058\n",
      "Epoch 23/150\n",
      "6342/6342 [==============================] - 14s 2ms/step - loss: 0.2545 - accuracy: 0.9055\n",
      "Epoch 24/150\n",
      "6342/6342 [==============================] - 16s 3ms/step - loss: 0.2543 - accuracy: 0.9056\n",
      "Epoch 25/150\n",
      "6342/6342 [==============================] - 16s 3ms/step - loss: 0.2545 - accuracy: 0.9056\n",
      "Epoch 26/150\n",
      "6342/6342 [==============================] - 16s 3ms/step - loss: 0.2544 - accuracy: 0.9059\n",
      "Epoch 27/150\n",
      "6342/6342 [==============================] - 16s 2ms/step - loss: 0.2547 - accuracy: 0.9057\n",
      "Epoch 28/150\n",
      "6342/6342 [==============================] - 15s 2ms/step - loss: 0.2544 - accuracy: 0.9055\n",
      "Epoch 29/150\n",
      "6342/6342 [==============================] - 16s 2ms/step - loss: 0.2546 - accuracy: 0.9057\n",
      "Epoch 30/150\n",
      "6342/6342 [==============================] - 16s 3ms/step - loss: 0.2546 - accuracy: 0.9055\n",
      "Epoch 31/150\n",
      "6342/6342 [==============================] - 17s 3ms/step - loss: 0.2543 - accuracy: 0.9057\n",
      "Epoch 32/150\n",
      "6342/6342 [==============================] - 16s 2ms/step - loss: 0.2547 - accuracy: 0.9059\n",
      "Epoch 33/150\n",
      "6342/6342 [==============================] - 16s 2ms/step - loss: 0.2543 - accuracy: 0.9059\n",
      "Epoch 34/150\n",
      "6342/6342 [==============================] - 15s 2ms/step - loss: 0.2544 - accuracy: 0.9053\n",
      "Epoch 35/150\n",
      "6342/6342 [==============================] - 15s 2ms/step - loss: 0.2548 - accuracy: 0.9057\n",
      "Epoch 36/150\n",
      "6342/6342 [==============================] - 16s 2ms/step - loss: 0.2553 - accuracy: 0.9057\n",
      "Epoch 37/150\n",
      "6342/6342 [==============================] - 16s 2ms/step - loss: 0.2546 - accuracy: 0.9055\n",
      "Epoch 38/150\n",
      "6342/6342 [==============================] - 16s 2ms/step - loss: 0.2550 - accuracy: 0.9057\n",
      "Epoch 39/150\n",
      "6342/6342 [==============================] - 15s 2ms/step - loss: 0.2542 - accuracy: 0.9057\n",
      "Epoch 40/150\n",
      "6342/6342 [==============================] - 16s 3ms/step - loss: 0.2552 - accuracy: 0.9056\n",
      "Epoch 41/150\n",
      "6342/6342 [==============================] - 17s 3ms/step - loss: 0.2559 - accuracy: 0.9055\n",
      "Epoch 42/150\n",
      "6342/6342 [==============================] - 17s 3ms/step - loss: 0.2548 - accuracy: 0.9057\n",
      "Epoch 43/150\n",
      "6342/6342 [==============================] - 16s 3ms/step - loss: 0.2551 - accuracy: 0.9056\n",
      "Epoch 44/150\n",
      "6342/6342 [==============================] - 16s 2ms/step - loss: 0.2549 - accuracy: 0.9054\n",
      "Epoch 45/150\n",
      "6342/6342 [==============================] - 16s 3ms/step - loss: 0.2546 - accuracy: 0.9059\n",
      "Epoch 46/150\n",
      "6342/6342 [==============================] - 16s 3ms/step - loss: 0.2548 - accuracy: 0.9057\n",
      "Epoch 47/150\n",
      "6342/6342 [==============================] - 16s 3ms/step - loss: 0.2556 - accuracy: 0.9057\n",
      "Epoch 48/150\n",
      "6342/6342 [==============================] - 16s 3ms/step - loss: 0.2554 - accuracy: 0.9059\n",
      "Epoch 49/150\n",
      "6342/6342 [==============================] - 16s 3ms/step - loss: 0.2549 - accuracy: 0.9057\n",
      "Epoch 50/150\n",
      "6342/6342 [==============================] - 16s 2ms/step - loss: 0.2544 - accuracy: 0.9056\n",
      "Epoch 51/150\n",
      "6342/6342 [==============================] - 16s 3ms/step - loss: 0.2547 - accuracy: 0.9056\n",
      "Epoch 52/150\n",
      "6342/6342 [==============================] - 16s 3ms/step - loss: 0.2555 - accuracy: 0.9056\n",
      "Epoch 53/150\n",
      "6342/6342 [==============================] - 16s 3ms/step - loss: 0.2550 - accuracy: 0.9060\n",
      "Epoch 54/150\n",
      "6342/6342 [==============================] - 16s 3ms/step - loss: 0.2548 - accuracy: 0.9057\n",
      "Epoch 55/150\n",
      "6342/6342 [==============================] - 16s 2ms/step - loss: 0.2550 - accuracy: 0.9060\n",
      "Epoch 56/150\n",
      "6342/6342 [==============================] - 16s 3ms/step - loss: 0.2543 - accuracy: 0.9057\n",
      "Epoch 57/150\n",
      "6342/6342 [==============================] - 16s 3ms/step - loss: 0.2544 - accuracy: 0.9056\n",
      "Epoch 58/150\n",
      "6342/6342 [==============================] - 16s 2ms/step - loss: 0.2551 - accuracy: 0.9056\n",
      "Epoch 59/150\n",
      "6342/6342 [==============================] - 16s 3ms/step - loss: 0.2543 - accuracy: 0.9059\n",
      "Epoch 60/150\n",
      "6342/6342 [==============================] - 17s 3ms/step - loss: 0.2548 - accuracy: 0.9058\n",
      "Epoch 61/150\n",
      "6342/6342 [==============================] - 16s 3ms/step - loss: 0.2548 - accuracy: 0.9057\n",
      "Epoch 62/150\n",
      "6342/6342 [==============================] - 16s 3ms/step - loss: 0.2550 - accuracy: 0.9054\n",
      "Epoch 63/150\n",
      "6342/6342 [==============================] - 16s 3ms/step - loss: 0.2546 - accuracy: 0.9059\n",
      "Epoch 64/150\n",
      "6342/6342 [==============================] - 16s 2ms/step - loss: 0.2551 - accuracy: 0.9055\n",
      "Epoch 65/150\n",
      "6342/6342 [==============================] - 16s 3ms/step - loss: 0.2552 - accuracy: 0.9055\n",
      "Epoch 66/150\n",
      "6342/6342 [==============================] - 16s 3ms/step - loss: 0.2545 - accuracy: 0.9054\n",
      "Epoch 67/150\n",
      "6342/6342 [==============================] - 16s 2ms/step - loss: 0.2549 - accuracy: 0.9059\n",
      "Epoch 68/150\n",
      "6342/6342 [==============================] - 16s 3ms/step - loss: 0.2547 - accuracy: 0.9056\n",
      "Epoch 69/150\n",
      "6342/6342 [==============================] - 15s 2ms/step - loss: 0.2543 - accuracy: 0.9056\n",
      "Epoch 70/150\n",
      "6342/6342 [==============================] - 16s 3ms/step - loss: 0.2546 - accuracy: 0.9058\n",
      "Epoch 71/150\n",
      "6342/6342 [==============================] - 16s 2ms/step - loss: 0.2546 - accuracy: 0.9057\n",
      "Epoch 72/150\n",
      "6342/6342 [==============================] - 17s 3ms/step - loss: 0.2549 - accuracy: 0.9057\n",
      "Epoch 73/150\n",
      "6342/6342 [==============================] - 16s 2ms/step - loss: 0.2543 - accuracy: 0.9057\n",
      "Epoch 74/150\n",
      "6342/6342 [==============================] - 16s 2ms/step - loss: 0.2545 - accuracy: 0.9058\n",
      "Epoch 75/150\n",
      "6342/6342 [==============================] - 16s 3ms/step - loss: 0.2551 - accuracy: 0.9057\n",
      "Epoch 76/150\n",
      "6342/6342 [==============================] - 16s 3ms/step - loss: 0.2544 - accuracy: 0.9057\n",
      "Epoch 77/150\n",
      "6342/6342 [==============================] - 17s 3ms/step - loss: 0.2548 - accuracy: 0.9057\n",
      "Epoch 78/150\n",
      "6342/6342 [==============================] - 16s 3ms/step - loss: 0.2551 - accuracy: 0.9060\n",
      "Epoch 79/150\n",
      "6342/6342 [==============================] - 16s 3ms/step - loss: 0.2554 - accuracy: 0.9055\n",
      "Epoch 80/150\n",
      "6342/6342 [==============================] - 16s 3ms/step - loss: 0.2551 - accuracy: 0.9057\n",
      "Epoch 81/150\n",
      "6342/6342 [==============================] - 16s 2ms/step - loss: 0.2553 - accuracy: 0.9059\n",
      "Epoch 82/150\n",
      "6342/6342 [==============================] - 16s 2ms/step - loss: 0.2552 - accuracy: 0.9061\n",
      "Epoch 83/150\n",
      "6342/6342 [==============================] - 16s 3ms/step - loss: 0.2547 - accuracy: 0.9058\n",
      "Epoch 84/150\n",
      "6342/6342 [==============================] - 16s 3ms/step - loss: 0.2556 - accuracy: 0.9057\n",
      "Epoch 85/150\n",
      "6342/6342 [==============================] - 16s 2ms/step - loss: 0.2550 - accuracy: 0.9058\n",
      "Epoch 86/150\n",
      "6342/6342 [==============================] - 17s 3ms/step - loss: 0.2548 - accuracy: 0.9057\n",
      "Epoch 87/150\n",
      "6342/6342 [==============================] - 16s 3ms/step - loss: 0.2549 - accuracy: 0.9059\n",
      "Epoch 88/150\n",
      "6342/6342 [==============================] - 15s 2ms/step - loss: 0.2550 - accuracy: 0.9057\n",
      "Epoch 89/150\n",
      "6342/6342 [==============================] - 16s 3ms/step - loss: 0.2555 - accuracy: 0.9058\n",
      "Epoch 90/150\n",
      "6342/6342 [==============================] - 17s 3ms/step - loss: 0.2555 - accuracy: 0.9057\n",
      "Epoch 91/150\n",
      "6342/6342 [==============================] - 17s 3ms/step - loss: 0.2553 - accuracy: 0.9059\n",
      "Epoch 92/150\n",
      "6342/6342 [==============================] - 16s 3ms/step - loss: 0.2559 - accuracy: 0.9056\n",
      "Epoch 93/150\n",
      "6342/6342 [==============================] - 16s 3ms/step - loss: 0.2555 - accuracy: 0.9056\n",
      "Epoch 94/150\n",
      "6342/6342 [==============================] - 16s 3ms/step - loss: 0.2551 - accuracy: 0.9058\n",
      "Epoch 95/150\n",
      "6342/6342 [==============================] - 16s 2ms/step - loss: 0.2556 - accuracy: 0.9055\n",
      "Epoch 96/150\n",
      "6342/6342 [==============================] - 16s 3ms/step - loss: 0.2555 - accuracy: 0.9057\n",
      "Epoch 97/150\n",
      "6342/6342 [==============================] - 16s 3ms/step - loss: 0.2554 - accuracy: 0.9055\n",
      "Epoch 98/150\n",
      "6342/6342 [==============================] - 16s 3ms/step - loss: 0.2552 - accuracy: 0.9057\n",
      "Epoch 99/150\n",
      "6342/6342 [==============================] - 16s 3ms/step - loss: 0.2555 - accuracy: 0.9056\n",
      "Epoch 100/150\n",
      "6342/6342 [==============================] - 17s 3ms/step - loss: 0.2553 - accuracy: 0.9059\n",
      "Epoch 101/150\n",
      "6342/6342 [==============================] - 16s 3ms/step - loss: 0.2556 - accuracy: 0.9055\n",
      "Epoch 102/150\n",
      "6342/6342 [==============================] - 16s 3ms/step - loss: 0.2557 - accuracy: 0.9058\n",
      "Epoch 103/150\n",
      "6342/6342 [==============================] - 16s 3ms/step - loss: 0.2551 - accuracy: 0.9056\n",
      "Epoch 104/150\n",
      "6342/6342 [==============================] - 16s 2ms/step - loss: 0.2555 - accuracy: 0.9054\n",
      "Epoch 105/150\n",
      "6342/6342 [==============================] - 17s 3ms/step - loss: 0.2565 - accuracy: 0.9056\n",
      "Epoch 106/150\n",
      "6342/6342 [==============================] - 16s 3ms/step - loss: 0.2562 - accuracy: 0.9057\n",
      "Epoch 107/150\n",
      "6342/6342 [==============================] - 17s 3ms/step - loss: 0.2554 - accuracy: 0.9060\n",
      "Epoch 108/150\n",
      "6342/6342 [==============================] - 16s 3ms/step - loss: 0.2562 - accuracy: 0.9056\n",
      "Epoch 109/150\n",
      "6342/6342 [==============================] - 16s 2ms/step - loss: 0.2561 - accuracy: 0.9056\n",
      "Epoch 110/150\n",
      "6342/6342 [==============================] - 16s 2ms/step - loss: 0.2560 - accuracy: 0.9061\n",
      "Epoch 111/150\n",
      "6342/6342 [==============================] - 16s 2ms/step - loss: 0.2559 - accuracy: 0.9055\n",
      "Epoch 112/150\n",
      "6342/6342 [==============================] - 16s 3ms/step - loss: 0.2553 - accuracy: 0.9055\n",
      "Epoch 113/150\n",
      "6342/6342 [==============================] - 16s 2ms/step - loss: 0.2558 - accuracy: 0.9055\n",
      "Epoch 114/150\n",
      "6342/6342 [==============================] - 16s 3ms/step - loss: 0.2559 - accuracy: 0.9057\n",
      "Epoch 115/150\n",
      "6342/6342 [==============================] - 16s 3ms/step - loss: 0.2547 - accuracy: 0.9060\n",
      "Epoch 116/150\n",
      "6342/6342 [==============================] - 16s 3ms/step - loss: 0.2554 - accuracy: 0.9057\n",
      "Epoch 117/150\n",
      "6342/6342 [==============================] - 16s 3ms/step - loss: 0.2551 - accuracy: 0.9057\n",
      "Epoch 118/150\n",
      "6342/6342 [==============================] - 16s 2ms/step - loss: 0.2553 - accuracy: 0.9060\n",
      "Epoch 119/150\n",
      "6342/6342 [==============================] - 16s 3ms/step - loss: 0.2556 - accuracy: 0.9058\n",
      "Epoch 120/150\n",
      "6342/6342 [==============================] - 16s 3ms/step - loss: 0.2548 - accuracy: 0.9060\n",
      "Epoch 121/150\n",
      "6342/6342 [==============================] - 16s 3ms/step - loss: 0.2556 - accuracy: 0.9057\n",
      "Epoch 122/150\n",
      "6342/6342 [==============================] - 16s 2ms/step - loss: 0.2554 - accuracy: 0.9058\n",
      "Epoch 123/150\n",
      "6342/6342 [==============================] - 16s 2ms/step - loss: 0.2548 - accuracy: 0.9059\n",
      "Epoch 124/150\n",
      "6342/6342 [==============================] - 16s 3ms/step - loss: 0.2564 - accuracy: 0.9057\n",
      "Epoch 125/150\n",
      "6342/6342 [==============================] - 16s 3ms/step - loss: 0.2554 - accuracy: 0.9058\n",
      "Epoch 126/150\n",
      "6342/6342 [==============================] - 16s 3ms/step - loss: 0.2553 - accuracy: 0.9056\n",
      "Epoch 127/150\n",
      "6342/6342 [==============================] - 16s 3ms/step - loss: 0.2546 - accuracy: 0.9059\n",
      "Epoch 128/150\n",
      "6342/6342 [==============================] - 16s 3ms/step - loss: 0.2555 - accuracy: 0.9054\n",
      "Epoch 129/150\n",
      "6342/6342 [==============================] - 16s 2ms/step - loss: 0.2554 - accuracy: 0.9055\n",
      "Epoch 130/150\n",
      "6342/6342 [==============================] - 16s 2ms/step - loss: 0.2560 - accuracy: 0.9054\n",
      "Epoch 131/150\n",
      "6342/6342 [==============================] - 16s 3ms/step - loss: 0.2557 - accuracy: 0.9056\n",
      "Epoch 132/150\n",
      "6342/6342 [==============================] - 16s 3ms/step - loss: 0.2563 - accuracy: 0.9055\n",
      "Epoch 133/150\n",
      "6342/6342 [==============================] - 16s 2ms/step - loss: 0.2553 - accuracy: 0.9058\n",
      "Epoch 134/150\n",
      "6342/6342 [==============================] - 16s 3ms/step - loss: 0.2553 - accuracy: 0.9056\n",
      "Epoch 135/150\n",
      "6342/6342 [==============================] - 16s 2ms/step - loss: 0.2554 - accuracy: 0.9057\n",
      "Epoch 136/150\n",
      "6342/6342 [==============================] - 16s 2ms/step - loss: 0.2560 - accuracy: 0.9058\n",
      "Epoch 137/150\n",
      "6342/6342 [==============================] - 16s 3ms/step - loss: 0.2551 - accuracy: 0.9061\n",
      "Epoch 138/150\n",
      "6342/6342 [==============================] - 16s 3ms/step - loss: 0.2552 - accuracy: 0.9057\n",
      "Epoch 139/150\n",
      "6342/6342 [==============================] - 17s 3ms/step - loss: 0.2553 - accuracy: 0.9056\n",
      "Epoch 140/150\n",
      "6342/6342 [==============================] - 16s 2ms/step - loss: 0.2558 - accuracy: 0.9057\n",
      "Epoch 141/150\n",
      "6342/6342 [==============================] - 16s 3ms/step - loss: 0.2561 - accuracy: 0.9056\n",
      "Epoch 142/150\n",
      "6342/6342 [==============================] - 16s 3ms/step - loss: 0.2560 - accuracy: 0.9060\n",
      "Epoch 143/150\n",
      "6342/6342 [==============================] - 15s 2ms/step - loss: 0.2555 - accuracy: 0.9054\n",
      "Epoch 144/150\n",
      "6342/6342 [==============================] - 16s 2ms/step - loss: 0.2553 - accuracy: 0.9058\n",
      "Epoch 145/150\n",
      "6342/6342 [==============================] - 16s 3ms/step - loss: 0.2559 - accuracy: 0.9056\n",
      "Epoch 146/150\n",
      "6342/6342 [==============================] - 16s 3ms/step - loss: 0.2559 - accuracy: 0.9055\n",
      "Epoch 147/150\n",
      "6342/6342 [==============================] - 17s 3ms/step - loss: 0.2544 - accuracy: 0.9056\n",
      "Epoch 148/150\n",
      "6342/6342 [==============================] - 16s 3ms/step - loss: 0.2554 - accuracy: 0.9057\n",
      "Epoch 149/150\n",
      "6342/6342 [==============================] - 16s 3ms/step - loss: 0.2559 - accuracy: 0.9057\n",
      "Epoch 150/150\n",
      "6342/6342 [==============================] - 16s 3ms/step - loss: 0.2553 - accuracy: 0.9060\n"
     ]
    }
   ],
   "source": [
    "nn_fitted = nn.fit(X_train_scaled,y_train, epochs=150,batch_size=32)"
   ]
  },
  {
   "cell_type": "code",
   "execution_count": 27,
   "id": "0dcc7bf7",
   "metadata": {},
   "outputs": [
    {
     "name": "stdout",
     "output_type": "stream",
     "text": [
      "1586/1586 - 2s - loss: 0.2540 - accuracy: 0.9060 - 2s/epoch - 1ms/step\n",
      "Loss: 0.25404152274131775, Accuracy: 0.9060233235359192\n"
     ]
    }
   ],
   "source": [
    "model_loss, model_accuracy = nn.evaluate(X_test_scaled,y_test,verbose=2)\n",
    "print(f\"Loss: {model_loss}, Accuracy: {model_accuracy}\")"
   ]
  },
  {
   "cell_type": "code",
   "execution_count": 28,
   "id": "a1fa0bcb",
   "metadata": {},
   "outputs": [
    {
     "name": "stderr",
     "output_type": "stream",
     "text": [
      "/home/arnold/anaconda3/envs/ml/lib/python3.11/site-packages/keras/src/engine/training.py:3103: UserWarning: You are saving your model as an HDF5 file via `model.save()`. This file format is considered legacy. We recommend using instead the native Keras format, e.g. `model.save('my_model.keras')`.\n",
      "  saving_api.save_model(\n"
     ]
    }
   ],
   "source": [
    "nn.save(\"./Models/Heart_Disease_Pred.h5\")"
   ]
  },
  {
   "cell_type": "markdown",
   "id": "eaf2b362",
   "metadata": {},
   "source": [
    "# TESTING THE MODEL"
   ]
  },
  {
   "cell_type": "code",
   "execution_count": 49,
   "id": "6033891a",
   "metadata": {},
   "outputs": [
    {
     "name": "stdout",
     "output_type": "stream",
     "text": [
      "WARNING:tensorflow:6 out of the last 7 calls to <function Model.make_predict_function.<locals>.predict_function at 0x7fa18e4d3880> triggered tf.function retracing. Tracing is expensive and the excessive number of tracings could be due to (1) creating @tf.function repeatedly in a loop, (2) passing tensors with different shapes, (3) passing Python objects instead of tensors. For (1), please define your @tf.function outside of the loop. For (2), @tf.function has reduce_retracing=True option that can avoid unnecessary retracing. For (3), please refer to https://www.tensorflow.org/guide/function#controlling_retracing and https://www.tensorflow.org/api_docs/python/tf/function for  more details.\n",
      "1586/1586 [==============================] - 1s 778us/step\n",
      "1586/1586 [==============================] - 1s 737us/step\n"
     ]
    }
   ],
   "source": [
    "# Predicting the probabilities of the positive class for the ROC-AUC score\n",
    "y_pred_probs = nn.predict(X_test_scaled)\n",
    "\n",
    "# Predicting class labels for the confusion matrix, precision, recall, and F1-score\n",
    "y_pred = (nn.predict(X_test_scaled) > 0.5).astype(\"int32\")"
   ]
  },
  {
   "cell_type": "code",
   "execution_count": 50,
   "id": "9aadc432",
   "metadata": {},
   "outputs": [
    {
     "name": "stdout",
     "output_type": "stream",
     "text": [
      "Confusion Matrix:\n",
      " [[45968     0]\n",
      " [ 4768     0]]\n"
     ]
    }
   ],
   "source": [
    "# Confusion Matrix\n",
    "cm = confusion_matrix(y_test, y_pred)\n",
    "print(\"Confusion Matrix:\\n\", cm)"
   ]
  },
  {
   "cell_type": "code",
   "execution_count": 40,
   "id": "74100f20",
   "metadata": {},
   "outputs": [
    {
     "name": "stdout",
     "output_type": "stream",
     "text": [
      "Confusion Matrix:\n",
      " [[45248   720]\n",
      " [ 4186   582]]\n"
     ]
    }
   ],
   "source": [
    "# Confusion Matrix\n",
    "cm = confusion_matrix(y_test, y_pred)\n",
    "print(\"Confusion Matrix:\\n\", cm)\n"
   ]
  },
  {
   "cell_type": "code",
   "execution_count": 51,
   "id": "278c122c",
   "metadata": {},
   "outputs": [
    {
     "name": "stdout",
     "output_type": "stream",
     "text": [
      "Precision: 0.00\n"
     ]
    },
    {
     "name": "stderr",
     "output_type": "stream",
     "text": [
      "/home/arnold/anaconda3/envs/ml/lib/python3.11/site-packages/sklearn/metrics/_classification.py:1471: UndefinedMetricWarning: Precision is ill-defined and being set to 0.0 due to no predicted samples. Use `zero_division` parameter to control this behavior.\n",
      "  _warn_prf(average, modifier, msg_start, len(result))\n"
     ]
    }
   ],
   "source": [
    "# Precision\n",
    "precision = precision_score(y_test, y_pred)\n",
    "print(\"Precision: {:.2f}\".format(precision))\n"
   ]
  },
  {
   "cell_type": "code",
   "execution_count": 52,
   "id": "edf4397d",
   "metadata": {},
   "outputs": [
    {
     "name": "stdout",
     "output_type": "stream",
     "text": [
      "Recall: 0.00\n"
     ]
    }
   ],
   "source": [
    "# Recall\n",
    "recall = recall_score(y_test, y_pred)\n",
    "print(\"Recall: {:.2f}\".format(recall))\n"
   ]
  },
  {
   "cell_type": "code",
   "execution_count": 53,
   "id": "f09737a9",
   "metadata": {},
   "outputs": [
    {
     "name": "stdout",
     "output_type": "stream",
     "text": [
      "F1-Score: 0.00\n"
     ]
    }
   ],
   "source": [
    "# F1-Score\n",
    "f1 = f1_score(y_test, y_pred)\n",
    "print(\"F1-Score: {:.2f}\".format(f1))\n"
   ]
  },
  {
   "cell_type": "code",
   "execution_count": 54,
   "id": "10938bcd",
   "metadata": {},
   "outputs": [
    {
     "name": "stdout",
     "output_type": "stream",
     "text": [
      "ROC-AUC Score: 0.83\n"
     ]
    }
   ],
   "source": [
    "\n",
    "# ROC-AUC Score\n",
    "# Ensure y_pred_probs are the probabilities of the positive class (class 1)\n",
    "roc_auc = roc_auc_score(y_test, y_pred_probs)\n",
    "print(\"ROC-AUC Score: {:.2f}\".format(roc_auc))"
   ]
  },
  {
   "cell_type": "code",
   "execution_count": 55,
   "id": "e6ee9805",
   "metadata": {},
   "outputs": [
    {
     "data": {
      "image/png": "[encoded data removed]",
      "text/plain": [
       "<Figure size 640x480 with 2 Axes>"
      ]
     },
     "metadata": {},
     "output_type": "display_data"
    }
   ],
   "source": [
    "sns.heatmap(cm, annot=True, fmt='d', cmap='Blues')\n",
    "plt.xlabel('Predicted Label')\n",
    "plt.ylabel('True Label')\n",
    "plt.title('Confusion Matrix')\n",
    "plt.show()"
   ]
  },
  {
   "cell_type": "markdown",
   "id": "4a75bf8f",
   "metadata": {},
   "source": [
    "# Reloading Model and Predicting"
   ]
  },
  {
   "cell_type": "code",
   "execution_count": 56,
   "id": "e9da7d1b",
   "metadata": {},
   "outputs": [],
   "source": [
    "reloded_Heart_Disease_Pred = keras.models.load_model(\"Models/Heart_Disease_Pred.h5\")"
   ]
  },
  {
   "cell_type": "code",
   "execution_count": 57,
   "id": "87cbcf29",
   "metadata": {},
   "outputs": [],
   "source": [
    "new_data = [[0, 0, 1, 18,\n",
    "       0, 0, 0, 1, 1, 1,\n",
    "       0, 1, 0, 0, 0,33]]"
   ]
  },
  {
   "cell_type": "code",
   "execution_count": 58,
   "id": "97f8aea0",
   "metadata": {},
   "outputs": [
    {
     "name": "stderr",
     "output_type": "stream",
     "text": [
      "/home/arnold/anaconda3/envs/ml/lib/python3.11/site-packages/sklearn/base.py:458: UserWarning: X has feature names, but StandardScaler was fitted without feature names\n",
      "  warnings.warn(\n"
     ]
    }
   ],
   "source": [
    "new_data_df = pd.DataFrame(new_data, columns=['HighBP', 'HighChol', 'CholCheck', 'BMI',\n",
    "       'Smoker', 'Stroke', 'Diabetes', 'PhysActivity', 'Fruits', 'Veggies',\n",
    "       'HvyAlcoholConsump', 'AnyHealthcare', 'NoDocbcCost', 'DiffWalk', 'Sex','Age'])\n",
    "new_data_scaled = scaler.transform(new_data_df)"
   ]
  },
  {
   "cell_type": "code",
   "execution_count": 59,
   "id": "a878de7d",
   "metadata": {},
   "outputs": [
    {
     "name": "stdout",
     "output_type": "stream",
     "text": [
      "1/1 [==============================] - 0s 46ms/step\n"
     ]
    }
   ],
   "source": [
    "prediction = reloded_Heart_Disease_Pred.predict(new_data_scaled)"
   ]
  },
  {
   "cell_type": "code",
   "execution_count": 60,
   "id": "cc3146b2",
   "metadata": {
    "scrolled": true
   },
   "outputs": [
    {
     "name": "stdout",
     "output_type": "stream",
     "text": [
      "prediction: [[7.4870906e-29]]\n"
     ]
    }
   ],
   "source": [
    "print(f\"prediction: {prediction}\")"
   ]
  },
  {
   "cell_type": "code",
   "execution_count": null,
   "id": "1ae4a513",
   "metadata": {},
   "outputs": [],
   "source": []
  },
  {
   "cell_type": "code",
   "execution_count": null,
   "id": "e6264414",
   "metadata": {},
   "outputs": [],
   "source": []
  }
 ],
 "metadata": {
  "kernelspec": {
   "display_name": "Python 3 (ipykernel)",
   "language": "python",
   "name": "python3"
  },
  "language_info": {
   "codemirror_mode": {
    "name": "ipython",
    "version": 3
   },
   "file_extension": ".py",
   "mimetype": "text/x-python",
   "name": "python",
   "nbconvert_exporter": "python",
   "pygments_lexer": "ipython3",
   "version": "3.11.5"
  }
 },
 "nbformat": 4,
 "nbformat_minor": 5
}
